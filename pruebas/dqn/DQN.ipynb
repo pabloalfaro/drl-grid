{
  "nbformat": 4,
  "nbformat_minor": 0,
  "metadata": {
    "kernelspec": {
      "name": "python3",
      "display_name": "Python 3.6.13 64-bit ('dqn': conda)"
    },
    "language_info": {
      "codemirror_mode": {
        "name": "ipython",
        "version": 3
      },
      "file_extension": ".py",
      "mimetype": "text/x-python",
      "name": "python",
      "nbconvert_exporter": "python",
      "pygments_lexer": "ipython3",
      "version": "3.6.13"
    },
    "colab": {
      "name": "01. DQN_lunarlander.ipynb",
      "provenance": [],
      "collapsed_sections": [],
      "include_colab_link": true
    },
    "interpreter": {
      "hash": "d57bc325b032dc1b09fa5cba57750ac7ee39438ad602bb58d1658c572153d578"
    }
  },
  "cells": [
    {
      "cell_type": "markdown",
      "metadata": {
        "id": "view-in-github",
        "colab_type": "text"
      },
      "source": [
        "<a href=\"https://colab.research.google.com/github/pabloalfaro/drl-grid/blob/main/pruebas/dqn/DQN.ipynb\" target=\"_parent\"><img src=\"https://colab.research.google.com/assets/colab-badge.svg\" alt=\"Open In Colab\"/></a>"
      ]
    },
    {
      "cell_type": "markdown",
      "metadata": {
        "id": "2kBzRD-X8RJl"
      },
      "source": [
        "# Deep Q-Learning"
      ]
    },
    {
      "cell_type": "markdown",
      "metadata": {
        "id": "M8279R3B8RJo"
      },
      "source": [
        "Comprobar si está ejecutando en Google Colaboratory."
      ]
    },
    {
      "cell_type": "code",
      "metadata": {
        "colab": {
          "base_uri": "https://localhost:8080/"
        },
        "id": "xo1QfuuK8e0H",
        "outputId": "c9bb0cf0-89ab-4b69-867f-8fade34e029d"
      },
      "source": [
        "!pip install torch torchvision pillow gym requests sklearn matplotlib collections-extended numpy box2d-py gym[Box_2D]"
      ],
      "execution_count": 1,
      "outputs": [
        {
          "output_type": "stream",
          "name": "stdout",
          "text": [
            "Requirement already satisfied: torch in /usr/local/lib/python3.7/dist-packages (1.11.0+cu113)\n",
            "Requirement already satisfied: torchvision in /usr/local/lib/python3.7/dist-packages (0.12.0+cu113)\n",
            "Requirement already satisfied: pillow in /usr/local/lib/python3.7/dist-packages (7.1.2)\n",
            "Requirement already satisfied: gym in /usr/local/lib/python3.7/dist-packages (0.17.3)\n",
            "Requirement already satisfied: requests in /usr/local/lib/python3.7/dist-packages (2.23.0)\n",
            "Requirement already satisfied: sklearn in /usr/local/lib/python3.7/dist-packages (0.0)\n",
            "Requirement already satisfied: matplotlib in /usr/local/lib/python3.7/dist-packages (3.2.2)\n",
            "Collecting collections-extended\n",
            "  Downloading collections_extended-2.0.2-py3-none-any.whl (24 kB)\n",
            "Requirement already satisfied: numpy in /usr/local/lib/python3.7/dist-packages (1.21.6)\n",
            "Collecting box2d-py\n",
            "  Downloading box2d_py-2.3.8-cp37-cp37m-manylinux1_x86_64.whl (448 kB)\n",
            "\u001b[K     |████████████████████████████████| 448 kB 6.3 MB/s \n",
            "\u001b[?25hRequirement already satisfied: typing-extensions in /usr/local/lib/python3.7/dist-packages (from torch) (4.2.0)\n",
            "Requirement already satisfied: cloudpickle<1.7.0,>=1.2.0 in /usr/local/lib/python3.7/dist-packages (from gym) (1.3.0)\n",
            "Requirement already satisfied: pyglet<=1.5.0,>=1.4.0 in /usr/local/lib/python3.7/dist-packages (from gym) (1.5.0)\n",
            "Requirement already satisfied: scipy in /usr/local/lib/python3.7/dist-packages (from gym) (1.4.1)\n",
            "Requirement already satisfied: future in /usr/local/lib/python3.7/dist-packages (from pyglet<=1.5.0,>=1.4.0->gym) (0.16.0)\n",
            "Requirement already satisfied: idna<3,>=2.5 in /usr/local/lib/python3.7/dist-packages (from requests) (2.10)\n",
            "Requirement already satisfied: urllib3!=1.25.0,!=1.25.1,<1.26,>=1.21.1 in /usr/local/lib/python3.7/dist-packages (from requests) (1.24.3)\n",
            "Requirement already satisfied: certifi>=2017.4.17 in /usr/local/lib/python3.7/dist-packages (from requests) (2021.10.8)\n",
            "Requirement already satisfied: chardet<4,>=3.0.2 in /usr/local/lib/python3.7/dist-packages (from requests) (3.0.4)\n",
            "Requirement already satisfied: scikit-learn in /usr/local/lib/python3.7/dist-packages (from sklearn) (1.0.2)\n",
            "Requirement already satisfied: pyparsing!=2.0.4,!=2.1.2,!=2.1.6,>=2.0.1 in /usr/local/lib/python3.7/dist-packages (from matplotlib) (3.0.8)\n",
            "Requirement already satisfied: kiwisolver>=1.0.1 in /usr/local/lib/python3.7/dist-packages (from matplotlib) (1.4.2)\n",
            "Requirement already satisfied: python-dateutil>=2.1 in /usr/local/lib/python3.7/dist-packages (from matplotlib) (2.8.2)\n",
            "Requirement already satisfied: cycler>=0.10 in /usr/local/lib/python3.7/dist-packages (from matplotlib) (0.11.0)\n",
            "Requirement already satisfied: six>=1.5 in /usr/local/lib/python3.7/dist-packages (from python-dateutil>=2.1->matplotlib) (1.15.0)\n",
            "\u001b[33mWARNING: gym 0.17.3 does not provide the extra 'box_2d'\u001b[0m\n",
            "Requirement already satisfied: joblib>=0.11 in /usr/local/lib/python3.7/dist-packages (from scikit-learn->sklearn) (1.1.0)\n",
            "Requirement already satisfied: threadpoolctl>=2.0.0 in /usr/local/lib/python3.7/dist-packages (from scikit-learn->sklearn) (3.1.0)\n",
            "Installing collected packages: collections-extended, box2d-py\n",
            "Successfully installed box2d-py-2.3.8 collections-extended-2.0.2\n"
          ]
        }
      ]
    },
    {
      "cell_type": "code",
      "metadata": {
        "id": "v7PS7Q8z6-xM",
        "colab": {
          "base_uri": "https://localhost:8080/"
        },
        "outputId": "e9edf997-e65d-434b-afee-71c78df3dcc4"
      },
      "source": [
        "import sys\n",
        "IN_COLAB = 'google.colab' in sys.modules\n",
        "\n",
        "if IN_COLAB:\n",
        "    from google.colab import drive\n",
        "    drive.mount('/content/drive')"
      ],
      "execution_count": 2,
      "outputs": [
        {
          "output_type": "stream",
          "name": "stdout",
          "text": [
            "Mounted at /content/drive\n"
          ]
        }
      ]
    },
    {
      "cell_type": "code",
      "metadata": {
        "colab": {
          "base_uri": "https://localhost:8080/"
        },
        "id": "1LG9DBOs8RJp",
        "outputId": "6eedccd0-1a64-4bc4-e8f3-21fde46d11a7"
      },
      "source": [
        "import sys\n",
        "IN_COLAB = 'google.colab' in sys.modules\n",
        "\n",
        "if IN_COLAB:\n",
        "    %cd \"/content/drive/MyDrive/dqn\"\n",
        "    render = False\n",
        "else:\n",
        "    render = True"
      ],
      "execution_count": 3,
      "outputs": [
        {
          "output_type": "stream",
          "name": "stdout",
          "text": [
            "/content/drive/MyDrive/dqn\n"
          ]
        }
      ]
    },
    {
      "cell_type": "markdown",
      "metadata": {
        "id": "oeInpMsoEeBD"
      },
      "source": [
        "Importación de la librería gym:"
      ]
    },
    {
      "cell_type": "code",
      "metadata": {
        "id": "D_VgVJQq8RJr"
      },
      "source": [
        "import gym"
      ],
      "execution_count": 4,
      "outputs": []
    },
    {
      "cell_type": "markdown",
      "metadata": {
        "id": "Z4L8m-6X8RJ0"
      },
      "source": [
        "Implementación de un agente con comportamiento sin entrenar utilizando la clase Agent que se encuentra en el archivo dqn_agent.py."
      ]
    },
    {
      "cell_type": "code",
      "metadata": {
        "id": "d2K9Dq818RJ1"
      },
      "source": [
        "from dqn_agent import Agent\n",
        "\n",
        "agent = Agent(state_size=8, action_size=157, seed=0)"
      ],
      "execution_count": 5,
      "outputs": []
    },
    {
      "cell_type": "markdown",
      "metadata": {
        "id": "dvhsh1Mt8RJ1"
      },
      "source": [
        "## Algoritmo\n",
        "A continuación se proporciona una implementación genérica del algoritmo Deep Q-Learning (DQN)."
      ]
    },
    {
      "cell_type": "code",
      "metadata": {
        "id": "i-WgPfUt8RJ2"
      },
      "source": [
        "import gym\n",
        "import random\n",
        "import torch\n",
        "import numpy as np\n",
        "from collections import deque\n",
        "import matplotlib.pyplot as plt\n",
        "from pprint import pprint\n",
        "%matplotlib inline"
      ],
      "execution_count": 23,
      "outputs": []
    },
    {
      "cell_type": "code",
      "source": [
        "import grid2op\n",
        "from grid2op.Converter import IdToAct"
      ],
      "metadata": {
        "id": "tD3M5UCF8Ccy"
      },
      "execution_count": 25,
      "outputs": []
    },
    {
      "cell_type": "code",
      "metadata": {
        "id": "3SjVV0yZ8RJ2"
      },
      "source": [
        "def dqn(env,n_episodes=2000, max_t=1000, eps_start=1.0, eps_end=0.01, eps_decay=0.995):\n",
        "    \"\"\"Deep Q-Learning.\n",
        "    \n",
        "    Params\n",
        "    ======\n",
        "        n_episodes (int): numero maximo de episodios de entrenamiento (n_episodios)\n",
        "        max_t (int): numero maximo de pasos por episodio (n_entrenamiento)\n",
        "        eps_start (float): valor inicial de epsilon\n",
        "        eps_end (float): valor final de epsilon\n",
        "        eps_decay (float): factor de multiplicacion (por episodio) de epsilon\n",
        "    \"\"\"\n",
        "    scores = []                        # puntuaciones de cada episodio\n",
        "    scores_window = deque(maxlen=100)  # puntuaciones de los ultimos 100 episodios\n",
        "    eps = eps_start                    # inicializar epsilon\n",
        "    \n",
        "    for i_episode in range(1, n_episodes+1):\n",
        "        state = env.reset()\n",
        "        #pprint(state) \n",
        "        # El estado es un diccionario y además es demasiado grande para tu red (tiene solo 8 neuronas de entrada según lo que has escrito)\n",
        "        # Esto son 8 datos cualquiera que he cogido del diccionario, esto deberías de cambiarlo por aquellos datos que conformen tu problema realmente,\n",
        "        # es solo para que se lo trague la red y veamos que funciona\n",
        "        state=state['a_ex'][0:8] # --> Esto funciona :)\n",
        "        score = 0\n",
        "        \n",
        "        for t in range(max_t):\n",
        "            \n",
        "            # elegir accion At con politica e-greedy\n",
        "            # print(state)\n",
        "            action = agent.act(state, eps)\n",
        "            print('Acción devuelta:', action)\n",
        "\n",
        "            # create the converter\n",
        "            converter = IdToAct(env.action_space)\n",
        "            converter.init_converter(redispatch=False)\n",
        "            \n",
        "            gym_action = converter.convert_act(action)  # this represents the same action\n",
        "            print(gym_action)\n",
        "\n",
        "            # El problema está en que debe ser un diccionario\n",
        "            # action = env.action_space.to_gym(action[0])\n",
        "            # action = gym.spaces.Dict()\n",
        "\n",
        "            # action_dict = {\n",
        "            # \"change_bus\": action[0][0:56],\n",
        "            # \"change_line_status\": action[0][56:76],\n",
        "            # \"redispatch\": action[0][76:81],\n",
        "            # \"set_bus\": action[0][81:137],\n",
        "            # \"set_line_status\": action[0][137:157]}\n",
        "            #El siguiente problema que se plantea es que el action devuelto por la red es un único valor.\n",
        "            \n",
        "            # aplicar At y obtener Rt+1, St+1\n",
        "            # next_state, reward, done, _ = env.step(action_dict)\n",
        "            next_state, reward, done, _ = env.step(action)\n",
        "\n",
        "            next_state=next_state['a_ex'][0:8]\n",
        "            print(next_state)\n",
        "            # He mirado el action space del entorno ya adaptado a gym y se esperan 5 datos, sospecho que puede venir de como se usa la librería torch\n",
        "            # Por eso falla env.action()\n",
        "            \n",
        "            # almacenar <St, At, Rt+1, St+1>\n",
        "            agent.memory.add(state, action, reward, next_state, done)\n",
        "            \n",
        "            # train & update\n",
        "            agent.step(state, action, reward, next_state, done)\n",
        "            \n",
        "            # avanzar estado\n",
        "            state = next_state\n",
        "            score += reward\n",
        "            \n",
        "            if done:\n",
        "                break \n",
        "\n",
        "        scores_window.append(score)       # guardar ultima puntuacion\n",
        "        scores.append(score)              # guardar ultima puntuacion\n",
        "        eps = max(eps_end, eps_decay*eps) # reducir epsilon\n",
        "        \n",
        "        print('\\rEpisodio {}\\tPuntuacion media (ultimos {:d}): {:.2f}'.format(i_episode, 100, np.mean(scores_window)), end=\"\")\n",
        "        if i_episode % 100 == 0:\n",
        "            print('\\rEpisodio {}\\tPuntuacion media ({:d} anteriores): {:.2f}'.format(i_episode, 100, np.mean(scores_window)))\n",
        "        if np.mean(scores_window)>=200.0:\n",
        "            print('\\nProblema resuelto en {:d} episodios!\\tPuntuacion media (ultimos {:d}): {:.2f}'.format(i_episode-100, 100, np.mean(scores_window)))\n",
        "            torch.save(agent.qnetwork_local.state_dict(), 'checkpoint.pth') # guardar pesos de agente entrenado\n",
        "            break\n",
        "    return scores\n",
        "\n",
        "# scores = dqn()\n",
        "\n",
        "# # plot the scores\n",
        "# fig = plt.figure()\n",
        "# ax = fig.add_subplot(111)\n",
        "# plt.plot(np.arange(len(scores)), scores)\n",
        "# plt.ylabel('Puntuacion')\n",
        "# plt.xlabel('Episodio #')\n",
        "# plt.show()"
      ],
      "execution_count": 48,
      "outputs": []
    },
    {
      "cell_type": "markdown",
      "metadata": {
        "id": "kzAWL02w8RJ3"
      },
      "source": [
        "---\n",
        "## Trabajo de grid2op\n",
        "---"
      ]
    },
    {
      "cell_type": "code",
      "metadata": {
        "id": "A8PJNuq8yW8J",
        "colab": {
          "base_uri": "https://localhost:8080/",
          "height": 1000
        },
        "outputId": "571bd83b-4844-4ba8-a6bf-79a7c218e33c"
      },
      "source": [
        " !pip install grid2op[optional]  # Para ejecutar el código en Colab"
      ],
      "execution_count": 8,
      "outputs": [
        {
          "output_type": "stream",
          "name": "stdout",
          "text": [
            "Collecting grid2op[optional]\n",
            "  Downloading Grid2Op-1.7.0.tar.gz (12.1 MB)\n",
            "\u001b[K     |████████████████████████████████| 12.1 MB 4.3 MB/s \n",
            "\u001b[?25h  Installing build dependencies ... \u001b[?25l\u001b[?25hdone\n",
            "  Getting requirements to build wheel ... \u001b[?25l\u001b[?25hdone\n",
            "    Preparing wheel metadata ... \u001b[?25l\u001b[?25hdone\n",
            "Requirement already satisfied: scipy>=1.4.1 in /usr/local/lib/python3.7/dist-packages (from grid2op[optional]) (1.4.1)\n",
            "Requirement already satisfied: tqdm>=4.45.0 in /usr/local/lib/python3.7/dist-packages (from grid2op[optional]) (4.64.0)\n",
            "Requirement already satisfied: pandas>=1.0.3 in /usr/local/lib/python3.7/dist-packages (from grid2op[optional]) (1.3.5)\n",
            "Requirement already satisfied: requests>=2.23.0 in /usr/local/lib/python3.7/dist-packages (from grid2op[optional]) (2.23.0)\n",
            "Collecting pandapower>=2.2.2\n",
            "  Downloading pandapower-2.9.0.zip (6.0 MB)\n",
            "\u001b[K     |████████████████████████████████| 6.0 MB 23.5 MB/s \n",
            "\u001b[?25hRequirement already satisfied: numpy>=1.18.3 in /usr/local/lib/python3.7/dist-packages (from grid2op[optional]) (1.21.6)\n",
            "Requirement already satisfied: networkx>=2.4 in /usr/local/lib/python3.7/dist-packages (from grid2op[optional]) (2.6.3)\n",
            "Requirement already satisfied: matplotlib>=3.2.1 in /usr/local/lib/python3.7/dist-packages (from grid2op[optional]) (3.2.2)\n",
            "Collecting imageio>=2.8.0\n",
            "  Downloading imageio-2.19.0-py3-none-any.whl (3.4 MB)\n",
            "\u001b[K     |████████████████████████████████| 3.4 MB 40.4 MB/s \n",
            "\u001b[?25hRequirement already satisfied: seaborn>=0.10.0 in /usr/local/lib/python3.7/dist-packages (from grid2op[optional]) (0.11.2)\n",
            "Collecting jyquickhelper>=0.3.128\n",
            "  Downloading jyquickhelper-0.4.220-py3-none-any.whl (1.5 MB)\n",
            "\u001b[K     |████████████████████████████████| 1.5 MB 42.6 MB/s \n",
            "\u001b[?25hCollecting jupyter-client>=6.1.0\n",
            "  Downloading jupyter_client-7.3.0-py3-none-any.whl (130 kB)\n",
            "\u001b[K     |████████████████████████████████| 130 kB 57.5 MB/s \n",
            "\u001b[?25hCollecting lightsim2grid\n",
            "  Downloading LightSim2Grid-0.6.1.post2-cp37-cp37m-manylinux_2_17_x86_64.manylinux2014_x86_64.whl (623 kB)\n",
            "\u001b[K     |████████████████████████████████| 623 kB 52.6 MB/s \n",
            "\u001b[?25hRequirement already satisfied: nbformat>=5.0.4 in /usr/local/lib/python3.7/dist-packages (from grid2op[optional]) (5.3.0)\n",
            "Collecting psutil>=5.7.0\n",
            "  Downloading psutil-5.9.0-cp37-cp37m-manylinux_2_12_x86_64.manylinux2010_x86_64.manylinux_2_17_x86_64.manylinux2014_x86_64.whl (280 kB)\n",
            "\u001b[K     |████████████████████████████████| 280 kB 40.3 MB/s \n",
            "\u001b[?25hCollecting pygifsicle>=1.0.1\n",
            "  Downloading pygifsicle-1.0.5.tar.gz (5.2 kB)\n",
            "Requirement already satisfied: numba>=0.48.0 in /usr/local/lib/python3.7/dist-packages (from grid2op[optional]) (0.51.2)\n",
            "Requirement already satisfied: gym>=0.17.2 in /usr/local/lib/python3.7/dist-packages (from grid2op[optional]) (0.17.3)\n",
            "Requirement already satisfied: plotly>=4.5.4 in /usr/local/lib/python3.7/dist-packages (from grid2op[optional]) (5.5.0)\n",
            "Requirement already satisfied: cloudpickle<1.7.0,>=1.2.0 in /usr/local/lib/python3.7/dist-packages (from gym>=0.17.2->grid2op[optional]) (1.3.0)\n",
            "Requirement already satisfied: pyglet<=1.5.0,>=1.4.0 in /usr/local/lib/python3.7/dist-packages (from gym>=0.17.2->grid2op[optional]) (1.5.0)\n",
            "Collecting pillow>=8.3.2\n",
            "  Downloading Pillow-9.1.0-cp37-cp37m-manylinux_2_17_x86_64.manylinux2014_x86_64.whl (4.3 MB)\n",
            "\u001b[K     |████████████████████████████████| 4.3 MB 38.7 MB/s \n",
            "\u001b[?25hRequirement already satisfied: traitlets in /usr/local/lib/python3.7/dist-packages (from jupyter-client>=6.1.0->grid2op[optional]) (5.1.1)\n",
            "Requirement already satisfied: nest-asyncio>=1.5.4 in /usr/local/lib/python3.7/dist-packages (from jupyter-client>=6.1.0->grid2op[optional]) (1.5.5)\n",
            "Requirement already satisfied: jupyter-core>=4.9.2 in /usr/local/lib/python3.7/dist-packages (from jupyter-client>=6.1.0->grid2op[optional]) (4.10.0)\n",
            "Requirement already satisfied: python-dateutil>=2.8.2 in /usr/local/lib/python3.7/dist-packages (from jupyter-client>=6.1.0->grid2op[optional]) (2.8.2)\n",
            "Collecting tornado>=6.0\n",
            "  Downloading tornado-6.1-cp37-cp37m-manylinux2010_x86_64.whl (428 kB)\n",
            "\u001b[K     |████████████████████████████████| 428 kB 36.7 MB/s \n",
            "\u001b[?25hRequirement already satisfied: pyzmq>=22.3 in /usr/local/lib/python3.7/dist-packages (from jupyter-client>=6.1.0->grid2op[optional]) (22.3.0)\n",
            "Requirement already satisfied: entrypoints in /usr/local/lib/python3.7/dist-packages (from jupyter-client>=6.1.0->grid2op[optional]) (0.4)\n",
            "Requirement already satisfied: jupyter in /usr/local/lib/python3.7/dist-packages (from jyquickhelper>=0.3.128->grid2op[optional]) (1.0.0)\n",
            "Requirement already satisfied: ipython in /usr/local/lib/python3.7/dist-packages (from jyquickhelper>=0.3.128->grid2op[optional]) (5.5.0)\n",
            "Requirement already satisfied: notebook in /usr/local/lib/python3.7/dist-packages (from jyquickhelper>=0.3.128->grid2op[optional]) (5.3.1)\n",
            "Requirement already satisfied: pyparsing!=2.0.4,!=2.1.2,!=2.1.6,>=2.0.1 in /usr/local/lib/python3.7/dist-packages (from matplotlib>=3.2.1->grid2op[optional]) (3.0.8)\n",
            "Requirement already satisfied: cycler>=0.10 in /usr/local/lib/python3.7/dist-packages (from matplotlib>=3.2.1->grid2op[optional]) (0.11.0)\n",
            "Requirement already satisfied: kiwisolver>=1.0.1 in /usr/local/lib/python3.7/dist-packages (from matplotlib>=3.2.1->grid2op[optional]) (1.4.2)\n",
            "Requirement already satisfied: typing-extensions in /usr/local/lib/python3.7/dist-packages (from kiwisolver>=1.0.1->matplotlib>=3.2.1->grid2op[optional]) (4.2.0)\n",
            "Requirement already satisfied: fastjsonschema in /usr/local/lib/python3.7/dist-packages (from nbformat>=5.0.4->grid2op[optional]) (2.15.3)\n",
            "Requirement already satisfied: jsonschema>=2.6 in /usr/local/lib/python3.7/dist-packages (from nbformat>=5.0.4->grid2op[optional]) (4.3.3)\n",
            "Requirement already satisfied: attrs>=17.4.0 in /usr/local/lib/python3.7/dist-packages (from jsonschema>=2.6->nbformat>=5.0.4->grid2op[optional]) (21.4.0)\n",
            "Requirement already satisfied: importlib-resources>=1.4.0 in /usr/local/lib/python3.7/dist-packages (from jsonschema>=2.6->nbformat>=5.0.4->grid2op[optional]) (5.7.1)\n",
            "Requirement already satisfied: importlib-metadata in /usr/local/lib/python3.7/dist-packages (from jsonschema>=2.6->nbformat>=5.0.4->grid2op[optional]) (4.11.3)\n",
            "Requirement already satisfied: pyrsistent!=0.17.0,!=0.17.1,!=0.17.2,>=0.14.0 in /usr/local/lib/python3.7/dist-packages (from jsonschema>=2.6->nbformat>=5.0.4->grid2op[optional]) (0.18.1)\n",
            "Requirement already satisfied: zipp>=3.1.0 in /usr/local/lib/python3.7/dist-packages (from importlib-resources>=1.4.0->jsonschema>=2.6->nbformat>=5.0.4->grid2op[optional]) (3.8.0)\n",
            "Requirement already satisfied: llvmlite<0.35,>=0.34.0.dev0 in /usr/local/lib/python3.7/dist-packages (from numba>=0.48.0->grid2op[optional]) (0.34.0)\n",
            "Requirement already satisfied: setuptools in /usr/local/lib/python3.7/dist-packages (from numba>=0.48.0->grid2op[optional]) (57.4.0)\n",
            "Requirement already satisfied: packaging in /usr/local/lib/python3.7/dist-packages (from pandapower>=2.2.2->grid2op[optional]) (21.3)\n",
            "Requirement already satisfied: pytz>=2017.3 in /usr/local/lib/python3.7/dist-packages (from pandas>=1.0.3->grid2op[optional]) (2022.1)\n",
            "Requirement already satisfied: six in /usr/local/lib/python3.7/dist-packages (from plotly>=4.5.4->grid2op[optional]) (1.15.0)\n",
            "Requirement already satisfied: tenacity>=6.2.0 in /usr/local/lib/python3.7/dist-packages (from plotly>=4.5.4->grid2op[optional]) (8.0.1)\n",
            "Requirement already satisfied: future in /usr/local/lib/python3.7/dist-packages (from pyglet<=1.5.0,>=1.4.0->gym>=0.17.2->grid2op[optional]) (0.16.0)\n",
            "Requirement already satisfied: certifi>=2017.4.17 in /usr/local/lib/python3.7/dist-packages (from requests>=2.23.0->grid2op[optional]) (2021.10.8)\n",
            "Requirement already satisfied: idna<3,>=2.5 in /usr/local/lib/python3.7/dist-packages (from requests>=2.23.0->grid2op[optional]) (2.10)\n",
            "Requirement already satisfied: chardet<4,>=3.0.2 in /usr/local/lib/python3.7/dist-packages (from requests>=2.23.0->grid2op[optional]) (3.0.4)\n",
            "Requirement already satisfied: urllib3!=1.25.0,!=1.25.1,<1.26,>=1.21.1 in /usr/local/lib/python3.7/dist-packages (from requests>=2.23.0->grid2op[optional]) (1.24.3)\n",
            "Requirement already satisfied: simplegeneric>0.8 in /usr/local/lib/python3.7/dist-packages (from ipython->jyquickhelper>=0.3.128->grid2op[optional]) (0.8.1)\n",
            "Requirement already satisfied: pexpect in /usr/local/lib/python3.7/dist-packages (from ipython->jyquickhelper>=0.3.128->grid2op[optional]) (4.8.0)\n",
            "Requirement already satisfied: decorator in /usr/local/lib/python3.7/dist-packages (from ipython->jyquickhelper>=0.3.128->grid2op[optional]) (4.4.2)\n",
            "Requirement already satisfied: prompt-toolkit<2.0.0,>=1.0.4 in /usr/local/lib/python3.7/dist-packages (from ipython->jyquickhelper>=0.3.128->grid2op[optional]) (1.0.18)\n",
            "Requirement already satisfied: pygments in /usr/local/lib/python3.7/dist-packages (from ipython->jyquickhelper>=0.3.128->grid2op[optional]) (2.6.1)\n",
            "Requirement already satisfied: pickleshare in /usr/local/lib/python3.7/dist-packages (from ipython->jyquickhelper>=0.3.128->grid2op[optional]) (0.7.5)\n",
            "Requirement already satisfied: wcwidth in /usr/local/lib/python3.7/dist-packages (from prompt-toolkit<2.0.0,>=1.0.4->ipython->jyquickhelper>=0.3.128->grid2op[optional]) (0.2.5)\n",
            "Requirement already satisfied: jupyter-console in /usr/local/lib/python3.7/dist-packages (from jupyter->jyquickhelper>=0.3.128->grid2op[optional]) (5.2.0)\n",
            "Requirement already satisfied: qtconsole in /usr/local/lib/python3.7/dist-packages (from jupyter->jyquickhelper>=0.3.128->grid2op[optional]) (5.3.0)\n",
            "Requirement already satisfied: ipywidgets in /usr/local/lib/python3.7/dist-packages (from jupyter->jyquickhelper>=0.3.128->grid2op[optional]) (7.7.0)\n",
            "Requirement already satisfied: nbconvert in /usr/local/lib/python3.7/dist-packages (from jupyter->jyquickhelper>=0.3.128->grid2op[optional]) (5.6.1)\n",
            "Requirement already satisfied: ipykernel in /usr/local/lib/python3.7/dist-packages (from jupyter->jyquickhelper>=0.3.128->grid2op[optional]) (4.10.1)\n",
            "Requirement already satisfied: widgetsnbextension~=3.6.0 in /usr/local/lib/python3.7/dist-packages (from ipywidgets->jupyter->jyquickhelper>=0.3.128->grid2op[optional]) (3.6.0)\n",
            "Requirement already satisfied: jupyterlab-widgets>=1.0.0 in /usr/local/lib/python3.7/dist-packages (from ipywidgets->jupyter->jyquickhelper>=0.3.128->grid2op[optional]) (1.1.0)\n",
            "Requirement already satisfied: ipython-genutils~=0.2.0 in /usr/local/lib/python3.7/dist-packages (from ipywidgets->jupyter->jyquickhelper>=0.3.128->grid2op[optional]) (0.2.0)\n",
            "Requirement already satisfied: terminado>=0.8.1 in /usr/local/lib/python3.7/dist-packages (from notebook->jyquickhelper>=0.3.128->grid2op[optional]) (0.13.3)\n",
            "Requirement already satisfied: jinja2 in /usr/local/lib/python3.7/dist-packages (from notebook->jyquickhelper>=0.3.128->grid2op[optional]) (2.11.3)\n",
            "Requirement already satisfied: Send2Trash in /usr/local/lib/python3.7/dist-packages (from notebook->jyquickhelper>=0.3.128->grid2op[optional]) (1.8.0)\n",
            "Requirement already satisfied: ptyprocess in /usr/local/lib/python3.7/dist-packages (from terminado>=0.8.1->notebook->jyquickhelper>=0.3.128->grid2op[optional]) (0.7.0)\n",
            "Requirement already satisfied: MarkupSafe>=0.23 in /usr/local/lib/python3.7/dist-packages (from jinja2->notebook->jyquickhelper>=0.3.128->grid2op[optional]) (2.0.1)\n",
            "Requirement already satisfied: mistune<2,>=0.8.1 in /usr/local/lib/python3.7/dist-packages (from nbconvert->jupyter->jyquickhelper>=0.3.128->grid2op[optional]) (0.8.4)\n",
            "Requirement already satisfied: bleach in /usr/local/lib/python3.7/dist-packages (from nbconvert->jupyter->jyquickhelper>=0.3.128->grid2op[optional]) (5.0.0)\n",
            "Requirement already satisfied: pandocfilters>=1.4.1 in /usr/local/lib/python3.7/dist-packages (from nbconvert->jupyter->jyquickhelper>=0.3.128->grid2op[optional]) (1.5.0)\n",
            "Requirement already satisfied: testpath in /usr/local/lib/python3.7/dist-packages (from nbconvert->jupyter->jyquickhelper>=0.3.128->grid2op[optional]) (0.6.0)\n",
            "Requirement already satisfied: defusedxml in /usr/local/lib/python3.7/dist-packages (from nbconvert->jupyter->jyquickhelper>=0.3.128->grid2op[optional]) (0.7.1)\n",
            "Requirement already satisfied: webencodings in /usr/local/lib/python3.7/dist-packages (from bleach->nbconvert->jupyter->jyquickhelper>=0.3.128->grid2op[optional]) (0.5.1)\n",
            "Requirement already satisfied: qtpy>=2.0.1 in /usr/local/lib/python3.7/dist-packages (from qtconsole->jupyter->jyquickhelper>=0.3.128->grid2op[optional]) (2.0.1)\n",
            "Building wheels for collected packages: grid2op, pandapower, pygifsicle\n",
            "  Building wheel for grid2op (PEP 517) ... \u001b[?25l\u001b[?25hdone\n",
            "  Created wheel for grid2op: filename=Grid2Op-1.7.0-py3-none-any.whl size=12476815 sha256=16bc32194aa383b39a93da9bf3e068a58f829bff5d907640047f6cea52e79ba6\n",
            "  Stored in directory: /root/.cache/pip/wheels/03/af/ba/bd0f4f3138c2b43a9468c413ad6f8360ab33235d33b09ef9d5\n",
            "  Building wheel for pandapower (setup.py) ... \u001b[?25l\u001b[?25hdone\n",
            "  Created wheel for pandapower: filename=pandapower-2.9.0-py3-none-any.whl size=5931109 sha256=6d8a8d94fd4dc220e02e11298904b66e70c62d5f900c10839ea68c767876d94e\n",
            "  Stored in directory: /root/.cache/pip/wheels/94/44/e3/be45d434be4b2427df371bf379756058ae2485e721c8acca2a\n",
            "  Building wheel for pygifsicle (setup.py) ... \u001b[?25l\u001b[?25hdone\n",
            "  Created wheel for pygifsicle: filename=pygifsicle-1.0.5-py3-none-any.whl size=4605 sha256=b1223c57ed889705fe8d99309269414c164a77f1a7df5b6ab94a373f2376f6ae\n",
            "  Stored in directory: /root/.cache/pip/wheels/80/a3/e9/b215e70a62741278d2e4f41403e486787c32a082bdb33551b4\n",
            "Successfully built grid2op pandapower pygifsicle\n",
            "Installing collected packages: tornado, jupyter-client, pillow, pandapower, pygifsicle, psutil, lightsim2grid, jyquickhelper, imageio, grid2op\n",
            "  Attempting uninstall: tornado\n",
            "    Found existing installation: tornado 5.1.1\n",
            "    Uninstalling tornado-5.1.1:\n",
            "      Successfully uninstalled tornado-5.1.1\n",
            "  Attempting uninstall: jupyter-client\n",
            "    Found existing installation: jupyter-client 5.3.5\n",
            "    Uninstalling jupyter-client-5.3.5:\n",
            "      Successfully uninstalled jupyter-client-5.3.5\n",
            "  Attempting uninstall: pillow\n",
            "    Found existing installation: Pillow 7.1.2\n",
            "    Uninstalling Pillow-7.1.2:\n",
            "      Successfully uninstalled Pillow-7.1.2\n",
            "  Attempting uninstall: psutil\n",
            "    Found existing installation: psutil 5.4.8\n",
            "    Uninstalling psutil-5.4.8:\n",
            "      Successfully uninstalled psutil-5.4.8\n",
            "  Attempting uninstall: imageio\n",
            "    Found existing installation: imageio 2.4.1\n",
            "    Uninstalling imageio-2.4.1:\n",
            "      Successfully uninstalled imageio-2.4.1\n",
            "\u001b[31mERROR: pip's dependency resolver does not currently take into account all the packages that are installed. This behaviour is the source of the following dependency conflicts.\n",
            "google-colab 1.0.0 requires tornado~=5.1.0; python_version >= \"3.0\", but you have tornado 6.1 which is incompatible.\n",
            "albumentations 0.1.12 requires imgaug<0.2.7,>=0.2.5, but you have imgaug 0.2.9 which is incompatible.\u001b[0m\n",
            "Successfully installed grid2op-1.7.0 imageio-2.19.0 jupyter-client-7.3.0 jyquickhelper-0.4.220 lightsim2grid-0.6.1.post2 pandapower-2.9.0 pillow-9.1.0 psutil-5.9.0 pygifsicle-1.0.5 tornado-6.1\n"
          ]
        },
        {
          "output_type": "display_data",
          "data": {
            "application/vnd.colab-display-data+json": {
              "pip_warning": {
                "packages": [
                  "PIL",
                  "jupyter_client",
                  "psutil",
                  "tornado"
                ]
              }
            }
          },
          "metadata": {}
        }
      ]
    },
    {
      "cell_type": "code",
      "metadata": {
        "id": "_NBITdwlCWO9",
        "colab": {
          "base_uri": "https://localhost:8080/"
        },
        "outputId": "c017210a-5eaf-4dca-b028-51e14dbf9982"
      },
      "source": [
        " !pip install jyquickhelper # Para ejecutar el código en Colab"
      ],
      "execution_count": 9,
      "outputs": [
        {
          "output_type": "stream",
          "name": "stdout",
          "text": [
            "Requirement already satisfied: jyquickhelper in /usr/local/lib/python3.7/dist-packages (0.4.220)\n",
            "Requirement already satisfied: notebook in /usr/local/lib/python3.7/dist-packages (from jyquickhelper) (5.3.1)\n",
            "Requirement already satisfied: ipython in /usr/local/lib/python3.7/dist-packages (from jyquickhelper) (5.5.0)\n",
            "Requirement already satisfied: jupyter in /usr/local/lib/python3.7/dist-packages (from jyquickhelper) (1.0.0)\n",
            "Requirement already satisfied: setuptools>=18.5 in /usr/local/lib/python3.7/dist-packages (from ipython->jyquickhelper) (57.4.0)\n",
            "Requirement already satisfied: pexpect in /usr/local/lib/python3.7/dist-packages (from ipython->jyquickhelper) (4.8.0)\n",
            "Requirement already satisfied: prompt-toolkit<2.0.0,>=1.0.4 in /usr/local/lib/python3.7/dist-packages (from ipython->jyquickhelper) (1.0.18)\n",
            "Requirement already satisfied: simplegeneric>0.8 in /usr/local/lib/python3.7/dist-packages (from ipython->jyquickhelper) (0.8.1)\n",
            "Requirement already satisfied: pickleshare in /usr/local/lib/python3.7/dist-packages (from ipython->jyquickhelper) (0.7.5)\n",
            "Requirement already satisfied: decorator in /usr/local/lib/python3.7/dist-packages (from ipython->jyquickhelper) (4.4.2)\n",
            "Requirement already satisfied: traitlets>=4.2 in /usr/local/lib/python3.7/dist-packages (from ipython->jyquickhelper) (5.1.1)\n",
            "Requirement already satisfied: pygments in /usr/local/lib/python3.7/dist-packages (from ipython->jyquickhelper) (2.6.1)\n",
            "Requirement already satisfied: wcwidth in /usr/local/lib/python3.7/dist-packages (from prompt-toolkit<2.0.0,>=1.0.4->ipython->jyquickhelper) (0.2.5)\n",
            "Requirement already satisfied: six>=1.9.0 in /usr/local/lib/python3.7/dist-packages (from prompt-toolkit<2.0.0,>=1.0.4->ipython->jyquickhelper) (1.15.0)\n",
            "Requirement already satisfied: jupyter-console in /usr/local/lib/python3.7/dist-packages (from jupyter->jyquickhelper) (5.2.0)\n",
            "Requirement already satisfied: qtconsole in /usr/local/lib/python3.7/dist-packages (from jupyter->jyquickhelper) (5.3.0)\n",
            "Requirement already satisfied: ipywidgets in /usr/local/lib/python3.7/dist-packages (from jupyter->jyquickhelper) (7.7.0)\n",
            "Requirement already satisfied: ipykernel in /usr/local/lib/python3.7/dist-packages (from jupyter->jyquickhelper) (4.10.1)\n",
            "Requirement already satisfied: nbconvert in /usr/local/lib/python3.7/dist-packages (from jupyter->jyquickhelper) (5.6.1)\n",
            "Requirement already satisfied: tornado>=4.0 in /usr/local/lib/python3.7/dist-packages (from ipykernel->jupyter->jyquickhelper) (6.1)\n",
            "Requirement already satisfied: jupyter-client in /usr/local/lib/python3.7/dist-packages (from ipykernel->jupyter->jyquickhelper) (7.3.0)\n",
            "Requirement already satisfied: jupyterlab-widgets>=1.0.0 in /usr/local/lib/python3.7/dist-packages (from ipywidgets->jupyter->jyquickhelper) (1.1.0)\n",
            "Requirement already satisfied: widgetsnbextension~=3.6.0 in /usr/local/lib/python3.7/dist-packages (from ipywidgets->jupyter->jyquickhelper) (3.6.0)\n",
            "Requirement already satisfied: nbformat>=4.2.0 in /usr/local/lib/python3.7/dist-packages (from ipywidgets->jupyter->jyquickhelper) (5.3.0)\n",
            "Requirement already satisfied: ipython-genutils~=0.2.0 in /usr/local/lib/python3.7/dist-packages (from ipywidgets->jupyter->jyquickhelper) (0.2.0)\n",
            "Requirement already satisfied: jsonschema>=2.6 in /usr/local/lib/python3.7/dist-packages (from nbformat>=4.2.0->ipywidgets->jupyter->jyquickhelper) (4.3.3)\n",
            "Requirement already satisfied: jupyter-core in /usr/local/lib/python3.7/dist-packages (from nbformat>=4.2.0->ipywidgets->jupyter->jyquickhelper) (4.10.0)\n",
            "Requirement already satisfied: fastjsonschema in /usr/local/lib/python3.7/dist-packages (from nbformat>=4.2.0->ipywidgets->jupyter->jyquickhelper) (2.15.3)\n",
            "Requirement already satisfied: typing-extensions in /usr/local/lib/python3.7/dist-packages (from jsonschema>=2.6->nbformat>=4.2.0->ipywidgets->jupyter->jyquickhelper) (4.2.0)\n",
            "Requirement already satisfied: importlib-metadata in /usr/local/lib/python3.7/dist-packages (from jsonschema>=2.6->nbformat>=4.2.0->ipywidgets->jupyter->jyquickhelper) (4.11.3)\n",
            "Requirement already satisfied: importlib-resources>=1.4.0 in /usr/local/lib/python3.7/dist-packages (from jsonschema>=2.6->nbformat>=4.2.0->ipywidgets->jupyter->jyquickhelper) (5.7.1)\n",
            "Requirement already satisfied: attrs>=17.4.0 in /usr/local/lib/python3.7/dist-packages (from jsonschema>=2.6->nbformat>=4.2.0->ipywidgets->jupyter->jyquickhelper) (21.4.0)\n",
            "Requirement already satisfied: pyrsistent!=0.17.0,!=0.17.1,!=0.17.2,>=0.14.0 in /usr/local/lib/python3.7/dist-packages (from jsonschema>=2.6->nbformat>=4.2.0->ipywidgets->jupyter->jyquickhelper) (0.18.1)\n",
            "Requirement already satisfied: zipp>=3.1.0 in /usr/local/lib/python3.7/dist-packages (from importlib-resources>=1.4.0->jsonschema>=2.6->nbformat>=4.2.0->ipywidgets->jupyter->jyquickhelper) (3.8.0)\n",
            "Requirement already satisfied: terminado>=0.8.1 in /usr/local/lib/python3.7/dist-packages (from notebook->jyquickhelper) (0.13.3)\n",
            "Requirement already satisfied: Send2Trash in /usr/local/lib/python3.7/dist-packages (from notebook->jyquickhelper) (1.8.0)\n",
            "Requirement already satisfied: jinja2 in /usr/local/lib/python3.7/dist-packages (from notebook->jyquickhelper) (2.11.3)\n",
            "Requirement already satisfied: nest-asyncio>=1.5.4 in /usr/local/lib/python3.7/dist-packages (from jupyter-client->ipykernel->jupyter->jyquickhelper) (1.5.5)\n",
            "Requirement already satisfied: pyzmq>=22.3 in /usr/local/lib/python3.7/dist-packages (from jupyter-client->ipykernel->jupyter->jyquickhelper) (22.3.0)\n",
            "Requirement already satisfied: python-dateutil>=2.8.2 in /usr/local/lib/python3.7/dist-packages (from jupyter-client->ipykernel->jupyter->jyquickhelper) (2.8.2)\n",
            "Requirement already satisfied: entrypoints in /usr/local/lib/python3.7/dist-packages (from jupyter-client->ipykernel->jupyter->jyquickhelper) (0.4)\n",
            "Requirement already satisfied: ptyprocess in /usr/local/lib/python3.7/dist-packages (from terminado>=0.8.1->notebook->jyquickhelper) (0.7.0)\n",
            "Requirement already satisfied: MarkupSafe>=0.23 in /usr/local/lib/python3.7/dist-packages (from jinja2->notebook->jyquickhelper) (2.0.1)\n",
            "Requirement already satisfied: mistune<2,>=0.8.1 in /usr/local/lib/python3.7/dist-packages (from nbconvert->jupyter->jyquickhelper) (0.8.4)\n",
            "Requirement already satisfied: testpath in /usr/local/lib/python3.7/dist-packages (from nbconvert->jupyter->jyquickhelper) (0.6.0)\n",
            "Requirement already satisfied: defusedxml in /usr/local/lib/python3.7/dist-packages (from nbconvert->jupyter->jyquickhelper) (0.7.1)\n",
            "Requirement already satisfied: pandocfilters>=1.4.1 in /usr/local/lib/python3.7/dist-packages (from nbconvert->jupyter->jyquickhelper) (1.5.0)\n",
            "Requirement already satisfied: bleach in /usr/local/lib/python3.7/dist-packages (from nbconvert->jupyter->jyquickhelper) (5.0.0)\n",
            "Requirement already satisfied: webencodings in /usr/local/lib/python3.7/dist-packages (from bleach->nbconvert->jupyter->jyquickhelper) (0.5.1)\n",
            "Requirement already satisfied: qtpy>=2.0.1 in /usr/local/lib/python3.7/dist-packages (from qtconsole->jupyter->jyquickhelper) (2.0.1)\n",
            "Requirement already satisfied: packaging in /usr/local/lib/python3.7/dist-packages (from qtpy>=2.0.1->qtconsole->jupyter->jyquickhelper) (21.3)\n",
            "Requirement already satisfied: pyparsing!=3.0.5,>=2.0.2 in /usr/local/lib/python3.7/dist-packages (from packaging->qtpy>=2.0.1->qtconsole->jupyter->jyquickhelper) (3.0.8)\n"
          ]
        }
      ]
    },
    {
      "cell_type": "code",
      "metadata": {
        "id": "kOtfvQPuCZNv"
      },
      "source": [
        "import os\n",
        "import sys\n",
        "import grid2op"
      ],
      "execution_count": 10,
      "outputs": []
    },
    {
      "cell_type": "code",
      "metadata": {
        "colab": {
          "base_uri": "https://localhost:8080/"
        },
        "id": "InNRtFm1CbQn",
        "outputId": "503dfadc-76f7-4ea9-e7f3-1bfbed77a0fc"
      },
      "source": [
        "# import the usefull classes\n",
        "from pprint import pprint\n",
        "import numpy as np\n",
        "import shutil\n",
        "from tqdm.notebook import tqdm  # for easy progress bar\n",
        "\n",
        "from grid2op import make\n",
        "from grid2op.Agent import DoNothingAgent\n",
        "\n",
        "from grid2op.Reward import GameplayReward, L2RPNReward\n",
        "from grid2op.gym_compat import GymObservationSpace\n",
        "\n",
        "\n",
        "max_iter = 50 # Se consideran 50 iteraciones para que sea más rápido\n",
        "train_iter = 50\n",
        "max_eval_step = 20\n",
        "env_name = \"rte_case14_redisp\"\n",
        "env = make(env_name, test=False, reward_class=L2RPNReward)\n",
        "env.seed(0)  # Una semilla para que los agentes sean reproducibles\n",
        "#pprint(env.observation_space.__dict__)\n",
        "print(len(env.observation_space.__dict__['shape']))\n",
        "print(len(env.observation_space.__dict__['dtype']))\n",
        "print(len(env.observation_space.__dict__['attr_list_vect']))"
      ],
      "execution_count": 11,
      "outputs": [
        {
          "output_type": "stream",
          "name": "stderr",
          "text": [
            "/usr/local/lib/python3.7/dist-packages/grid2op/MakeEnv/Make.py:413: UserWarning: It is the first time you use the environment \"rte_case14_redisp\".\n",
            "We will attempt to download this environment from remote\n",
            "  warnings.warn(_MAKE_FIRST_TIME_WARN.format(dataset_name))\n"
          ]
        },
        {
          "output_type": "stream",
          "name": "stdout",
          "text": [
            "downloading the training data, this may take a while.\n"
          ]
        },
        {
          "output_type": "stream",
          "name": "stderr",
          "text": [
            "rte_case14_redisp.tar.bz2: 292MB [01:01, 4.76MB/s]                           \n"
          ]
        },
        {
          "output_type": "stream",
          "name": "stdout",
          "text": [
            "Extract the tar archive in \"/root/data_grid2op\"\n",
            "\t Successfully updated file \"grid.json\" for environment \"rte_case14_redisp\"\n",
            "You may now use the environment \"rte_case14_redisp\" with the available data by invoking:\n",
            "\tenv = grid2op.make(\"rte_case14_redisp\")\n",
            "51\n",
            "51\n",
            "51\n"
          ]
        }
      ]
    },
    {
      "cell_type": "code",
      "metadata": {
        "id": "Hc8s0r_aV2_1"
      },
      "source": [
        "from grid2op.Reward import L2RPNReward\n",
        "\n",
        "from grid2op.gym_compat import GymEnv, MultiDiscreteActSpace"
      ],
      "execution_count": 12,
      "outputs": []
    },
    {
      "cell_type": "code",
      "metadata": {
        "colab": {
          "base_uri": "https://localhost:8080/",
          "height": 397
        },
        "id": "ho5blW7VCd_w",
        "outputId": "5c3180cc-94c9-4042-a0a3-17b490c5fb39"
      },
      "source": [
        "# Convertimos el entorno a uno del estándar gym con un espacio de observaciones y acciones entendible.\n",
        "gym_env = GymEnv(env)\n",
        "\n",
        "# Por si quereis sacar los espacios por pantalla:\n",
        "# print(gym_env.observation_space)\n",
        "# print(gym_env.action_space)\n",
        "scores = dqn(env=gym_env)\n",
        "\n",
        "# plot the scores\n",
        "fig = plt.figure()\n",
        "ax = fig.add_subplot(111)\n",
        "plt.plot(np.arange(len(scores)), scores)\n",
        "plt.ylabel('Puntuacion')\n",
        "plt.xlabel('Episodio #')\n",
        "plt.show()"
      ],
      "execution_count": 49,
      "outputs": [
        {
          "output_type": "stream",
          "name": "stdout",
          "text": [
            "Acción devuelta: 79\n"
          ]
        },
        {
          "output_type": "error",
          "ename": "AttributeError",
          "evalue": "ignored",
          "traceback": [
            "\u001b[0;31m---------------------------------------------------------------------------\u001b[0m",
            "\u001b[0;31mAttributeError\u001b[0m                            Traceback (most recent call last)",
            "\u001b[0;32m<ipython-input-49-8485d0dc1ad1>\u001b[0m in \u001b[0;36m<module>\u001b[0;34m()\u001b[0m\n\u001b[1;32m      5\u001b[0m \u001b[0;31m# print(gym_env.observation_space)\u001b[0m\u001b[0;34m\u001b[0m\u001b[0;34m\u001b[0m\u001b[0;34m\u001b[0m\u001b[0m\n\u001b[1;32m      6\u001b[0m \u001b[0;31m# print(gym_env.action_space)\u001b[0m\u001b[0;34m\u001b[0m\u001b[0;34m\u001b[0m\u001b[0;34m\u001b[0m\u001b[0m\n\u001b[0;32m----> 7\u001b[0;31m \u001b[0mscores\u001b[0m \u001b[0;34m=\u001b[0m \u001b[0mdqn\u001b[0m\u001b[0;34m(\u001b[0m\u001b[0menv\u001b[0m\u001b[0;34m=\u001b[0m\u001b[0mgym_env\u001b[0m\u001b[0;34m)\u001b[0m\u001b[0;34m\u001b[0m\u001b[0;34m\u001b[0m\u001b[0m\n\u001b[0m\u001b[1;32m      8\u001b[0m \u001b[0;34m\u001b[0m\u001b[0m\n\u001b[1;32m      9\u001b[0m \u001b[0;31m# plot the scores\u001b[0m\u001b[0;34m\u001b[0m\u001b[0;34m\u001b[0m\u001b[0;34m\u001b[0m\u001b[0m\n",
            "\u001b[0;32m<ipython-input-48-1708d7b1960a>\u001b[0m in \u001b[0;36mdqn\u001b[0;34m(env, n_episodes, max_t, eps_start, eps_end, eps_decay)\u001b[0m\n\u001b[1;32m     31\u001b[0m \u001b[0;34m\u001b[0m\u001b[0m\n\u001b[1;32m     32\u001b[0m             \u001b[0;31m# create the converter\u001b[0m\u001b[0;34m\u001b[0m\u001b[0;34m\u001b[0m\u001b[0;34m\u001b[0m\u001b[0m\n\u001b[0;32m---> 33\u001b[0;31m             \u001b[0mconverter\u001b[0m \u001b[0;34m=\u001b[0m \u001b[0mIdToAct\u001b[0m\u001b[0;34m(\u001b[0m\u001b[0menv\u001b[0m\u001b[0;34m.\u001b[0m\u001b[0maction_space\u001b[0m\u001b[0;34m)\u001b[0m\u001b[0;34m\u001b[0m\u001b[0;34m\u001b[0m\u001b[0m\n\u001b[0m\u001b[1;32m     34\u001b[0m             \u001b[0mconverter\u001b[0m\u001b[0;34m.\u001b[0m\u001b[0minit_converter\u001b[0m\u001b[0;34m(\u001b[0m\u001b[0mredispatch\u001b[0m\u001b[0;34m=\u001b[0m\u001b[0;32mFalse\u001b[0m\u001b[0;34m)\u001b[0m\u001b[0;34m\u001b[0m\u001b[0;34m\u001b[0m\u001b[0m\n\u001b[1;32m     35\u001b[0m \u001b[0;34m\u001b[0m\u001b[0m\n",
            "\u001b[0;32m/usr/local/lib/python3.7/dist-packages/grid2op/Converter/IdToAct.py\u001b[0m in \u001b[0;36m__init__\u001b[0;34m(self, action_space)\u001b[0m\n\u001b[1;32m     68\u001b[0m \u001b[0;34m\u001b[0m\u001b[0m\n\u001b[1;32m     69\u001b[0m     \u001b[0;32mdef\u001b[0m \u001b[0m__init__\u001b[0m\u001b[0;34m(\u001b[0m\u001b[0mself\u001b[0m\u001b[0;34m,\u001b[0m \u001b[0maction_space\u001b[0m\u001b[0;34m)\u001b[0m\u001b[0;34m:\u001b[0m\u001b[0;34m\u001b[0m\u001b[0;34m\u001b[0m\u001b[0m\n\u001b[0;32m---> 70\u001b[0;31m         \u001b[0mConverter\u001b[0m\u001b[0;34m.\u001b[0m\u001b[0m__init__\u001b[0m\u001b[0;34m(\u001b[0m\u001b[0mself\u001b[0m\u001b[0;34m,\u001b[0m \u001b[0maction_space\u001b[0m\u001b[0;34m)\u001b[0m\u001b[0;34m\u001b[0m\u001b[0;34m\u001b[0m\u001b[0m\n\u001b[0m\u001b[1;32m     71\u001b[0m         \u001b[0mself\u001b[0m\u001b[0;34m.\u001b[0m\u001b[0m__class__\u001b[0m \u001b[0;34m=\u001b[0m \u001b[0mIdToAct\u001b[0m\u001b[0;34m.\u001b[0m\u001b[0minit_grid\u001b[0m\u001b[0;34m(\u001b[0m\u001b[0maction_space\u001b[0m\u001b[0;34m)\u001b[0m\u001b[0;34m\u001b[0m\u001b[0;34m\u001b[0m\u001b[0m\n\u001b[1;32m     72\u001b[0m         \u001b[0mself\u001b[0m\u001b[0;34m.\u001b[0m\u001b[0mall_actions\u001b[0m \u001b[0;34m=\u001b[0m \u001b[0;34m[\u001b[0m\u001b[0;34m]\u001b[0m\u001b[0;34m\u001b[0m\u001b[0;34m\u001b[0m\u001b[0m\n",
            "\u001b[0;32m/usr/local/lib/python3.7/dist-packages/grid2op/Converter/Converters.py\u001b[0m in \u001b[0;36m__init__\u001b[0;34m(self, action_space)\u001b[0m\n\u001b[1;32m     16\u001b[0m     \u001b[0;32mdef\u001b[0m \u001b[0m__init__\u001b[0m\u001b[0;34m(\u001b[0m\u001b[0mself\u001b[0m\u001b[0;34m,\u001b[0m \u001b[0maction_space\u001b[0m\u001b[0;34m)\u001b[0m\u001b[0;34m:\u001b[0m\u001b[0;34m\u001b[0m\u001b[0;34m\u001b[0m\u001b[0m\n\u001b[1;32m     17\u001b[0m         ActionSpace.__init__(\n\u001b[0;32m---> 18\u001b[0;31m             \u001b[0mself\u001b[0m\u001b[0;34m,\u001b[0m \u001b[0maction_space\u001b[0m\u001b[0;34m,\u001b[0m \u001b[0maction_space\u001b[0m\u001b[0;34m.\u001b[0m\u001b[0mlegal_action\u001b[0m\u001b[0;34m,\u001b[0m \u001b[0maction_space\u001b[0m\u001b[0;34m.\u001b[0m\u001b[0msubtype\u001b[0m\u001b[0;34m\u001b[0m\u001b[0;34m\u001b[0m\u001b[0m\n\u001b[0m\u001b[1;32m     19\u001b[0m         )\n\u001b[1;32m     20\u001b[0m         \u001b[0mself\u001b[0m\u001b[0;34m.\u001b[0m\u001b[0mspace_prng\u001b[0m \u001b[0;34m=\u001b[0m \u001b[0maction_space\u001b[0m\u001b[0;34m.\u001b[0m\u001b[0mspace_prng\u001b[0m\u001b[0;34m\u001b[0m\u001b[0;34m\u001b[0m\u001b[0m\n",
            "\u001b[0;31mAttributeError\u001b[0m: 'GymActionSpace' object has no attribute 'legal_action'"
          ]
        }
      ]
    },
    {
      "cell_type": "markdown",
      "source": [
        "Prueba tranformando el entorno"
      ],
      "metadata": {
        "id": "hs8AZ7HpxkUf"
      }
    },
    {
      "cell_type": "code",
      "metadata": {
        "id": "6ADr1Y27HA_f"
      },
      "source": [
        "!pip install git+https://github.com/DLR-RM/stable-baselines3"
      ],
      "execution_count": null,
      "outputs": []
    },
    {
      "cell_type": "code",
      "metadata": {
        "id": "mMvFsz7dG1sA"
      },
      "source": [
        "from grid2op.Reward import L2RPNReward\n",
        "\n",
        "from grid2op.gym_compat import GymEnv, MultiDiscreteActSpace\n",
        "\n",
        "from stable_baselines3.common.policies import BasePolicy\n",
        "from stable_baselines3 import A2C, PPO\n",
        "from stable_baselines3.common.env_checker import check_env\n",
        "from pprint import pprint #Para ver los diccionarios con una estructura más elegante de la que ofrece print convencional"
      ],
      "execution_count": null,
      "outputs": []
    },
    {
      "cell_type": "code",
      "metadata": {
        "id": "LIaDF8gQG4K6"
      },
      "source": [
        "gym_env = GymEnv(env)\n",
        "# Aunque el espacio de observaciones y acciones ya es correcto, Stable Baselines 3 no tiene soporte para espacio de acciones mixtos basados en diccionarios\n",
        "# Por lo que no nos queda más remedio que discretizar todo el espacio de acciones (leer docstring de https://github.com/rte-france/Grid2Op/blob/master/grid2op/gym_compat/multidiscrete_gym_actspace.py)\n",
        "print(\"Espacio de acciones original: {}\".format(gym_env.action_space))\n",
        "gym_env.action_space = MultiDiscreteActSpace(gym_env.init_env.action_space)\n",
        "print(\"Espacio de acciones discretizado: {}\".format(gym_env.action_space))"
      ],
      "execution_count": null,
      "outputs": []
    },
    {
      "cell_type": "code",
      "metadata": {
        "id": "nlALO4XHHLiW"
      },
      "source": [
        "check_env(gym_env)"
      ],
      "execution_count": null,
      "outputs": []
    },
    {
      "cell_type": "code",
      "metadata": {
        "id": "NnZ5r_bZHPGy"
      },
      "source": [
        "env = gym_env"
      ],
      "execution_count": null,
      "outputs": []
    },
    {
      "cell_type": "code",
      "metadata": {
        "id": "9eUs7NWlYvpk"
      },
      "source": [
        "prueba = env.reset()\n",
        "data = list(prueba.items())\n",
        "an_array = np.array(data)\n",
        "\n",
        "an_array"
      ],
      "execution_count": null,
      "outputs": []
    },
    {
      "cell_type": "code",
      "metadata": {
        "id": "Bz6oRdRDHVWc"
      },
      "source": [
        "scores = dqn(env=gym_env)"
      ],
      "execution_count": null,
      "outputs": []
    },
    {
      "cell_type": "code",
      "metadata": {
        "id": "vYUzQV7LLfOs",
        "colab": {
          "base_uri": "https://localhost:8080/"
        },
        "outputId": "37d4f717-3ab6-4608-c6e8-62b330ee032a"
      },
      "source": [
        "import grid2op\n",
        "from grid2op.Converter import IdToAct\n",
        "env = grid2op.make()\n",
        "converter = IdToAct(env.action_space)\n",
        "\n",
        "# the path were will save it\n",
        "path_ = \"/path/where/it/is/saved/\"\n",
        "name_file = \"tmp_convert.npy\"\n",
        "\n",
        "# init the converter, the first time, here by passing some key word arguments, to not consider\n",
        "# redispatching for example\n",
        "converter.init_converter(redispatch=False)\n",
        "\n",
        "\n",
        "# i just do an action, for example the number 27... whatever it does does not matter here\n",
        "act = converter.convert_act(27)\n",
        "\n",
        "print(act)"
      ],
      "execution_count": 51,
      "outputs": [
        {
          "output_type": "stream",
          "name": "stdout",
          "text": [
            "This action will:\n",
            "\t - NOT change anything to the injections\n",
            "\t - NOT perform any redispatching action\n",
            "\t - NOT modify any storage capacity\n",
            "\t - NOT perform any curtailment\n",
            "\t - Force reconnection of 1 powerlines ([6])\n",
            "\t - NOT switch any line status\n",
            "\t - NOT switch anything in the topology\n",
            "\t - Set the bus of the following element(s):\n",
            "\t \t - Assign bus 1 to line (origin) id 6 [on substation 3]\n",
            "\t \t - Assign bus 1 to line (extremity) id 6 [on substation 4]\n"
          ]
        }
      ]
    }
  ]
}