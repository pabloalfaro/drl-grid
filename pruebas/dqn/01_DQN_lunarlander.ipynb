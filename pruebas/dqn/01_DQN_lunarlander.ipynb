{
  "nbformat": 4,
  "nbformat_minor": 0,
  "metadata": {
    "kernelspec": {
      "display_name": "Python 3",
      "language": "python",
      "name": "python3"
    },
    "language_info": {
      "codemirror_mode": {
        "name": "ipython",
        "version": 3
      },
      "file_extension": ".py",
      "mimetype": "text/x-python",
      "name": "python",
      "nbconvert_exporter": "python",
      "pygments_lexer": "ipython3",
      "version": "3.7.3"
    },
    "colab": {
      "name": "01. DQN_lunarlander.ipynb",
      "provenance": [],
      "include_colab_link": true
    }
  },
  "cells": [
    {
      "cell_type": "markdown",
      "metadata": {
        "id": "view-in-github",
        "colab_type": "text"
      },
      "source": [
        "<a href=\"https://colab.research.google.com/github/pabloalfaro/drl-grid/blob/main/pruebas/dqn/01_DQN_lunarlander.ipynb\" target=\"_parent\"><img src=\"https://colab.research.google.com/assets/colab-badge.svg\" alt=\"Open In Colab\"/></a>"
      ]
    },
    {
      "cell_type": "markdown",
      "metadata": {
        "id": "2kBzRD-X8RJl"
      },
      "source": [
        "# Deep Q-Learning para _lunar lander_\n",
        "\n",
        "[**Juan Gómez Romero**](https://decsai.ugr.es/~jgomez)  \n",
        "Departamento de Ciencias de la Computación e Inteligencia Artificial  \n",
        "Universidad de Granada  \n",
        "This work is licensed under the [GNU General Public License v3.0](https://choosealicense.com/licenses/gpl-3.0/).\n",
        "\n",
        "---\n",
        "Ejemplo basado en:\n",
        "> Udacity (2019) Deep Reinforcement Learning Course. Disponible en [GitHub](https://github.com/udacity/deep-reinforcement-learning/tree/master/dqn)."
      ]
    },
    {
      "cell_type": "markdown",
      "metadata": {
        "id": "M8279R3B8RJo"
      },
      "source": [
        "Comprobar si está ejecutando en Google Colaboratory."
      ]
    },
    {
      "cell_type": "code",
      "metadata": {
        "colab": {
          "base_uri": "https://localhost:8080/"
        },
        "id": "xo1QfuuK8e0H",
        "outputId": "9acf62ae-e6ee-473c-af0e-c1820d6dbc17"
      },
      "source": [
        "!pip install torch torchvision pillow gym requests sklearn matplotlib collections-extended numpy box2d-py gym[Box_2D]"
      ],
      "execution_count": 6,
      "outputs": [
        {
          "output_type": "stream",
          "text": [
            "Requirement already satisfied: torch in /usr/local/lib/python3.7/dist-packages (1.9.0+cu102)\n",
            "Requirement already satisfied: torchvision in /usr/local/lib/python3.7/dist-packages (0.10.0+cu102)\n",
            "Requirement already satisfied: pillow in /usr/local/lib/python3.7/dist-packages (7.1.2)\n",
            "Requirement already satisfied: gym in /usr/local/lib/python3.7/dist-packages (0.17.3)\n",
            "Requirement already satisfied: requests in /usr/local/lib/python3.7/dist-packages (2.23.0)\n",
            "Requirement already satisfied: sklearn in /usr/local/lib/python3.7/dist-packages (0.0)\n",
            "Requirement already satisfied: matplotlib in /usr/local/lib/python3.7/dist-packages (3.2.2)\n",
            "Requirement already satisfied: collections-extended in /usr/local/lib/python3.7/dist-packages (1.0.3)\n",
            "Requirement already satisfied: numpy in /usr/local/lib/python3.7/dist-packages (1.19.5)\n",
            "Requirement already satisfied: box2d-py in /usr/local/lib/python3.7/dist-packages (2.3.8)\n",
            "Requirement already satisfied: typing-extensions in /usr/local/lib/python3.7/dist-packages (from torch) (3.7.4.3)\n",
            "Requirement already satisfied: cloudpickle<1.7.0,>=1.2.0 in /usr/local/lib/python3.7/dist-packages (from gym) (1.3.0)\n",
            "Requirement already satisfied: pyglet<=1.5.0,>=1.4.0 in /usr/local/lib/python3.7/dist-packages (from gym) (1.5.0)\n",
            "Requirement already satisfied: scipy in /usr/local/lib/python3.7/dist-packages (from gym) (1.4.1)\n",
            "Requirement already satisfied: future in /usr/local/lib/python3.7/dist-packages (from pyglet<=1.5.0,>=1.4.0->gym) (0.16.0)\n",
            "Requirement already satisfied: idna<3,>=2.5 in /usr/local/lib/python3.7/dist-packages (from requests) (2.10)\n",
            "Requirement already satisfied: chardet<4,>=3.0.2 in /usr/local/lib/python3.7/dist-packages (from requests) (3.0.4)\n",
            "Requirement already satisfied: certifi>=2017.4.17 in /usr/local/lib/python3.7/dist-packages (from requests) (2021.5.30)\n",
            "Requirement already satisfied: urllib3!=1.25.0,!=1.25.1,<1.26,>=1.21.1 in /usr/local/lib/python3.7/dist-packages (from requests) (1.24.3)\n",
            "Requirement already satisfied: scikit-learn in /usr/local/lib/python3.7/dist-packages (from sklearn) (0.22.2.post1)\n",
            "Requirement already satisfied: kiwisolver>=1.0.1 in /usr/local/lib/python3.7/dist-packages (from matplotlib) (1.3.1)\n",
            "Requirement already satisfied: pyparsing!=2.0.4,!=2.1.2,!=2.1.6,>=2.0.1 in /usr/local/lib/python3.7/dist-packages (from matplotlib) (2.4.7)\n",
            "Requirement already satisfied: python-dateutil>=2.1 in /usr/local/lib/python3.7/dist-packages (from matplotlib) (2.8.1)\n",
            "Requirement already satisfied: cycler>=0.10 in /usr/local/lib/python3.7/dist-packages (from matplotlib) (0.10.0)\n",
            "Requirement already satisfied: six in /usr/local/lib/python3.7/dist-packages (from cycler>=0.10->matplotlib) (1.15.0)\n",
            "Requirement already satisfied: setuptools in /usr/local/lib/python3.7/dist-packages (from collections-extended) (57.2.0)\n",
            "\u001b[33mWARNING: gym 0.17.3 does not provide the extra 'box_2d'\u001b[0m\n",
            "Requirement already satisfied: joblib>=0.11 in /usr/local/lib/python3.7/dist-packages (from scikit-learn->sklearn) (1.0.1)\n"
          ],
          "name": "stdout"
        }
      ]
    },
    {
      "cell_type": "code",
      "metadata": {
        "id": "v7PS7Q8z6-xM",
        "colab": {
          "base_uri": "https://localhost:8080/"
        },
        "outputId": "80e5390c-6177-4c1f-bafa-ec56790d4c57"
      },
      "source": [
        "import sys\n",
        "IN_COLAB = 'google.colab' in sys.modules\n",
        "\n",
        "if IN_COLAB:\n",
        "    from google.colab import drive\n",
        "    drive.mount('/content/drive')"
      ],
      "execution_count": 7,
      "outputs": [
        {
          "output_type": "stream",
          "text": [
            "Drive already mounted at /content/drive; to attempt to forcibly remount, call drive.mount(\"/content/drive\", force_remount=True).\n"
          ],
          "name": "stdout"
        }
      ]
    },
    {
      "cell_type": "code",
      "metadata": {
        "colab": {
          "base_uri": "https://localhost:8080/"
        },
        "id": "1LG9DBOs8RJp",
        "outputId": "785c9109-4eae-40d5-8c38-275c16cec25f"
      },
      "source": [
        "import sys\n",
        "IN_COLAB = 'google.colab' in sys.modules\n",
        "\n",
        "if IN_COLAB:\n",
        "    %cd \"/content/drive/MyDrive/ECI/eci2019-DRL/Tema 4 - Aprendizaje Profundo por Refuerzo/code/dqn\"\n",
        "    render = False\n",
        "else:\n",
        "    render = True"
      ],
      "execution_count": 8,
      "outputs": [
        {
          "output_type": "stream",
          "text": [
            "/content/drive/MyDrive/ECI/eci2019-DRL/Tema 4 - Aprendizaje Profundo por Refuerzo/code/dqn\n"
          ],
          "name": "stdout"
        }
      ]
    },
    {
      "cell_type": "markdown",
      "metadata": {
        "id": "56w7ye7U8RJq"
      },
      "source": [
        "## Explorar entorno virtual\n",
        "\n",
        "En este ejercicio utilizamos el entorno virtual [LunarLander-v2](https://gym.openai.com/envs/LunarLander-v2/) de [OpenAI](https://openai.com). \n",
        "\n",
        "![](https://github.com/jgromero/eci2019-DRL/blob/master/Tema%204%20-%20Aprendizaje%20Profundo%20por%20Refuerzo/code/dqn/lunarlander.gif?raw=true)\n",
        "\n",
        "En primer lugar, vamos a explorar cómo funciona este entorno."
      ]
    },
    {
      "cell_type": "code",
      "metadata": {
        "id": "D_VgVJQq8RJr"
      },
      "source": [
        "import gym"
      ],
      "execution_count": 9,
      "outputs": []
    },
    {
      "cell_type": "markdown",
      "metadata": {
        "id": "_i6PiAiL8RJs"
      },
      "source": [
        "Crear entorno:"
      ]
    },
    {
      "cell_type": "code",
      "metadata": {
        "id": "JxnWW3NV8RJs"
      },
      "source": [
        "env = gym.make(\"LunarLander-v2\")"
      ],
      "execution_count": 5,
      "outputs": []
    },
    {
      "cell_type": "markdown",
      "metadata": {
        "id": "LTodyStH8RJt"
      },
      "source": [
        "Cada estado es una tupla de 8 elementos. Los dos primeros valores corresponden a la posición del módulo.\n",
        "\n",
        "El agente puede realizar 4 acciones:\n",
        "\n",
        "```\n",
        "    NADA = 0\n",
        "    ACTIVAR MOTOR DE ORIENTACION IZQUIERDO = 1\n",
        "    ACTIVAR MOTOR PRINCIPAL = 2\n",
        "    ACTIVAR MOTOR DE ORIENTACION DERECHO = 3\n",
        "```\n",
        "\n",
        "El objetivo en [LunarLander-v2](https://gym.openai.com/envs/LunarLander-v2/) es conseguir aterrizar el módulo lunar en el espacio designado ($+200$). La puntuación que se obtiene por moverse desde la parte superior de la pantalla hasta la zona de aterrizaje está en torno a $[100, 140]$. Si el módulo se desvía de la zona de aterrizaje pierde puntuación. El episodio termina si el módulo se estrella ($-100$) o se detiene ($+100$). Cada para que contacte con el suelo aumenta la puntuación ($+10$). Activar el motor principal supone una penalización ($-0.3$ por frame). "
      ]
    },
    {
      "cell_type": "code",
      "metadata": {
        "colab": {
          "base_uri": "https://localhost:8080/"
        },
        "id": "RHudC4oS8RJx",
        "outputId": "4c0711f6-e1ef-4c64-91fa-fb4c8e249cab"
      },
      "source": [
        "print(env.observation_space)\n",
        "print(env.action_space)\n",
        "print(env.reward_range)"
      ],
      "execution_count": 10,
      "outputs": [
        {
          "output_type": "stream",
          "text": [
            "<grid2op.Space.GridObjects.ObservationSpace_rte_case14_redisp object at 0x7f9e648cd890>\n",
            "<grid2op.Space.GridObjects.ActionSpace_rte_case14_redisp object at 0x7f9e65aca150>\n",
            "(0.0, 20.0)\n"
          ],
          "name": "stdout"
        }
      ]
    },
    {
      "cell_type": "code",
      "metadata": {
        "colab": {
          "base_uri": "https://localhost:8080/"
        },
        "id": "k6DAFg7I8RJ0",
        "outputId": "abb3bf13-49a6-4800-ad7d-97eaca7b4a08"
      },
      "source": [
        "print(env.observation_space)\n",
        "print(env.action_space.sample())"
      ],
      "execution_count": 11,
      "outputs": [
        {
          "output_type": "stream",
          "text": [
            "<grid2op.Space.GridObjects.ObservationSpace_rte_case14_redisp object at 0x7f9e648cd890>\n",
            "This action will:\n",
            "\t - NOT change anything to the injections\n",
            "\t - NOT perform any redispatching action\n",
            "\t - NOT modify any storage capacity\n",
            "\t - NOT perform any curtailment\n",
            "\t - NOT force any line status\n",
            "\t - NOT switch any line status\n",
            "\t - Change the bus of the following element(s):\n",
            "\t \t - Switch bus of line (extremity) id 17 [on substation 5]\n",
            "\t \t - Switch bus of generator id 2 [on substation 5]\n",
            "\t \t - Switch bus of load id 5 [on substation 5]\n",
            "\t - NOT force any particular bus configuration\n"
          ],
          "name": "stdout"
        }
      ]
    },
    {
      "cell_type": "markdown",
      "metadata": {
        "id": "Z4L8m-6X8RJ0"
      },
      "source": [
        "Implementación de un agente con comportamiento sin entrenar utilizando la clase [`Agent`](dqn_agent.py)."
      ]
    },
    {
      "cell_type": "code",
      "metadata": {
        "colab": {
          "base_uri": "https://localhost:8080/"
        },
        "id": "qnYrB_QEIuQj",
        "outputId": "e1a8f4a1-fd1e-456e-edf8-64ba5073bb39"
      },
      "source": [
        "pprint(state)"
      ],
      "execution_count": 24,
      "outputs": [
        {
          "output_type": "stream",
          "text": [
            "OrderedDict([('_shunt_bus', array([1], dtype=int32)),\n",
            "             ('_shunt_p', array([0.], dtype=float32)),\n",
            "             ('_shunt_q', array([-17.828289], dtype=float32)),\n",
            "             ('_shunt_v', array([0.20148437], dtype=float32)),\n",
            "             ('a_ex',\n",
            "              array([1.8238358e+02, 1.7948483e+02, 3.1578791e+04, 4.0613402e+04,\n",
            "       1.5287653e+04, 4.1530352e+03, 1.7193543e+04, 1.0401473e+02,\n",
            "       2.0465733e+02, 1.8260760e+02, 1.5681223e+02, 1.3504549e+02,\n",
            "       2.2531211e+04, 2.4254668e+04, 5.5535344e+04, 1.2402637e+03,\n",
            "       5.1626156e+04, 1.4019395e+05, 3.5587805e+02, 9.2169969e+04],\n",
            "      dtype=float32)),\n",
            "             ('a_or',\n",
            "              array([  189.77327,   169.29967, 31578.791  , 40613.402  , 15287.653  ,\n",
            "        4153.035  , 17193.543  ,   108.55819,   197.10118,   173.4902 ,\n",
            "         151.91942,   135.04549, 22531.21   , 24254.668  , 55535.344  ,\n",
            "         131.51323,    82.08723,   231.76239,   305.03833,  1369.3823 ],\n",
            "      dtype=float32)),\n",
            "             ('actual_dispatch', array([0., 0., 0., 0., 0.], dtype=float32)),\n",
            "             ('attention_budget', array([0.], dtype=float32)),\n",
            "             ('curtailment', array([0., 0., 0., 0., 0.], dtype=float32)),\n",
            "             ('curtailment_limit', array([1., 1., 1., 1., 1.], dtype=float32)),\n",
            "             ('day', 6),\n",
            "             ('day_of_week', 6),\n",
            "             ('duration_next_maintenance',\n",
            "              array([0, 0, 0, 0, 0, 0, 0, 0, 0, 0, 0, 0, 0, 0, 0, 0, 0, 0, 0, 0],\n",
            "      dtype=int32)),\n",
            "             ('gen_p',\n",
            "              array([81.7   , 79.7   , 12.1   ,  0.    , 80.7665], dtype=float32)),\n",
            "             ('gen_p_before_curtail',\n",
            "              array([ 0. ,  0. , 12.1,  0. ,  0. ], dtype=float32)),\n",
            "             ('gen_q',\n",
            "              array([ 70.259    ,  96.50018  , -16.244621 ,   7.3967867,   2.3459806],\n",
            "      dtype=float32)),\n",
            "             ('gen_v',\n",
            "              array([142.1, 142.1,   0.2,  12. , 142.1], dtype=float32)),\n",
            "             ('hour_of_day', 0),\n",
            "             ('is_alarm_illegal', 0),\n",
            "             ('line_status',\n",
            "              array([ True,  True,  True,  True,  True,  True,  True,  True,  True,\n",
            "        True,  True,  True,  True,  True,  True,  True,  True,  True,\n",
            "        True,  True])),\n",
            "             ('load_p',\n",
            "              array([23.2, 86.8, 14.7, 44.6,  7.2, 11.5, 30.1,  9. ,  3.6,  5.7, 12.2],\n",
            "      dtype=float32)),\n",
            "             ('load_q',\n",
            "              array([16.4, 59.6, 10.2, 31.9,  5. ,  8. , 20.8,  6.4,  2.5,  4.1,  8.6],\n",
            "      dtype=float32)),\n",
            "             ('load_v',\n",
            "              array([142.1       , 142.1       ,   0.19273633, 133.21849   ,\n",
            "       133.63876   ,   0.2       ,   0.20148437,   0.19935988,\n",
            "         0.19871084,   0.19571055,   0.19500947], dtype=float32)),\n",
            "             ('minute_of_hour', 0),\n",
            "             ('month', 1),\n",
            "             ('p_ex',\n",
            "              array([-4.3290455e+01, -3.6209221e+01, -4.9093122e+00, -8.9603491e+00,\n",
            "        4.1155767e+00, -1.4024600e+00, -5.7396502e+00, -2.5251907e+01,\n",
            "       -4.0567253e+01, -3.3408604e+01, -1.7277979e+01,  3.1170841e+01,\n",
            "       -7.7155766e+00, -7.1074052e+00, -1.6602774e+01, -2.8098509e+01,\n",
            "       -1.6184450e+01, -3.1246984e+01, -1.1768364e-14, -2.8098509e+01],\n",
            "      dtype=float32)),\n",
            "             ('p_or',\n",
            "              array([ 4.36565628e+01,  3.71099358e+01,  4.95048428e+00,  9.23247337e+00,\n",
            "       -4.09068775e+00,  1.40740550e+00,  5.80523443e+00,  2.55410328e+01,\n",
            "        4.18518753e+01,  3.43975449e+01,  1.81519012e+01, -3.10377254e+01,\n",
            "        7.77815866e+00,  7.20125341e+00,  1.68675728e+01,  2.80985088e+01,\n",
            "        1.61844501e+01,  3.12469845e+01,  1.15463195e-14,  2.80985088e+01],\n",
            "      dtype=float32)),\n",
            "             ('q_ex',\n",
            "              array([ 1.18728161e+01, -2.03689861e+01, -9.73654270e+00, -1.01749563e+01,\n",
            "       -3.27828050e+00, -2.87823211e-02, -2.50433944e-02,  4.21071625e+00,\n",
            "       -2.41722603e+01, -2.58930721e+01, -3.17912560e+01, -2.34415412e+00,\n",
            "        7.78280497e-01, -4.13325691e+00, -8.72979259e+00, -9.56820679e+00,\n",
            "       -7.91580057e+00, -3.71772423e+01,  7.39678669e+00, -1.56556225e+01],\n",
            "      dtype=float32)),\n",
            "             ('q_or',\n",
            "              array([-1.6605015e+01,  1.8950994e+01,  9.8459120e+00,  1.0753800e+01,\n",
            "        3.3365431e+00,  3.3256862e-02,  1.5857464e-01, -7.8454552e+00,\n",
            "        2.4531168e+01,  2.5300472e+01,  3.2689468e+01,  2.7640429e+00,\n",
            "       -6.4722604e-01,  4.3285809e+00,  9.2512655e+00,  1.1459683e+01,\n",
            "        9.8397913e+00,  4.3606213e+01, -7.3004107e+00,  1.6868618e+01],\n",
            "      dtype=float32)),\n",
            "             ('rho',\n",
            "              array([0.49304542, 0.43985343, 0.1379004 , 0.17735334, 0.06675915,\n",
            "       0.2720363 , 0.07508192, 0.28204244, 0.5120839 , 0.9465556 ,\n",
            "       0.39469823, 0.35085848, 0.09839081, 0.10591692, 0.8003011 ,\n",
            "       0.3416814 , 0.21326888, 0.9634182 , 0.08965801, 0.402494  ],\n",
            "      dtype=float32)),\n",
            "             ('target_dispatch', array([0., 0., 0., 0., 0.], dtype=float32)),\n",
            "             ('time_before_cooldown_line',\n",
            "              array([0, 0, 0, 0, 0, 0, 0, 0, 0, 0, 0, 0, 0, 0, 0, 0, 0, 0, 0, 0],\n",
            "      dtype=int32)),\n",
            "             ('time_before_cooldown_sub',\n",
            "              array([0, 0, 0, 0, 0, 0, 0, 0, 0, 0, 0, 0, 0, 0], dtype=int32)),\n",
            "             ('time_next_maintenance',\n",
            "              array([-1, -1, -1, -1, -1, -1, -1, -1, -1, -1, -1, -1, -1, -1, -1, -1, -1,\n",
            "       -1, -1, -1], dtype=int32)),\n",
            "             ('time_since_last_alarm', array([-1], dtype=int32)),\n",
            "             ('timestep_overflow',\n",
            "              array([0, 0, 0, 0, 0, 0, 0, 0, 0, 0, 0, 0, 0, 0, 0, 0, 0, 0, 0, 0],\n",
            "      dtype=int32)),\n",
            "             ('topo_vect',\n",
            "              array([1, 1, 1, 1, 1, 1, 1, 1, 1, 1, 1, 1, 1, 1, 1, 1, 1, 1, 1, 1, 1, 1,\n",
            "       1, 1, 1, 1, 1, 1, 1, 1, 1, 1, 1, 1, 1, 1, 1, 1, 1, 1, 1, 1, 1, 1,\n",
            "       1, 1, 1, 1, 1, 1, 1, 1, 1, 1, 1, 1], dtype=int32)),\n",
            "             ('v_ex',\n",
            "              array([142.1       , 133.63876   ,   0.19935988,   0.19273633,\n",
            "         0.19871084,   0.19500947,   0.19273633, 142.1       ,\n",
            "       133.21849   , 133.63876   , 133.21849   , 133.63876   ,\n",
            "         0.19871084,   0.19571055,   0.19500947,  13.817588  ,\n",
            "         0.20148437,   0.2       ,  12.        ,   0.20148437],\n",
            "      dtype=float32)),\n",
            "             ('v_or',\n",
            "              array([142.1       , 142.1       ,   0.20148437,   0.20148437,\n",
            "         0.19935988,   0.19571055,   0.19500947, 142.1       ,\n",
            "       142.1       , 142.1       , 142.1       , 133.21849   ,\n",
            "         0.2       ,   0.2       ,   0.2       , 133.21849   ,\n",
            "       133.21849   , 133.63876   ,  13.817588  ,  13.817588  ],\n",
            "      dtype=float32)),\n",
            "             ('was_alarm_used_after_game_over', 0),\n",
            "             ('year', 2019)])\n"
          ],
          "name": "stdout"
        }
      ]
    },
    {
      "cell_type": "code",
      "metadata": {
        "id": "d2K9Dq818RJ1",
        "colab": {
          "base_uri": "https://localhost:8080/",
          "height": 350
        },
        "outputId": "043bf636-8bd7-46e1-9ba7-0fa229e74a19"
      },
      "source": [
        "from dqn_agent import Agent\n",
        "\n",
        "agent = Agent(state_size=8, action_size=4, seed=0)\n",
        "\n",
        "state = env.reset()\n",
        "for j in range(200):\n",
        "    action = agent.act(state)\n",
        "    if render: env.render()\n",
        "    state, reward, done, _ = env.step(action)\n",
        "    if done:\n",
        "        break \n",
        "        \n",
        "env.close()"
      ],
      "execution_count": 19,
      "outputs": [
        {
          "output_type": "error",
          "ename": "TypeError",
          "evalue": "ignored",
          "traceback": [
            "\u001b[0;31m---------------------------------------------------------------------------\u001b[0m",
            "\u001b[0;31mTypeError\u001b[0m                                 Traceback (most recent call last)",
            "\u001b[0;32m<ipython-input-19-23fb003842b9>\u001b[0m in \u001b[0;36m<module>\u001b[0;34m()\u001b[0m\n\u001b[1;32m      5\u001b[0m \u001b[0mstate\u001b[0m \u001b[0;34m=\u001b[0m \u001b[0menv\u001b[0m\u001b[0;34m.\u001b[0m\u001b[0mreset\u001b[0m\u001b[0;34m(\u001b[0m\u001b[0;34m)\u001b[0m\u001b[0;34m\u001b[0m\u001b[0;34m\u001b[0m\u001b[0m\n\u001b[1;32m      6\u001b[0m \u001b[0;32mfor\u001b[0m \u001b[0mj\u001b[0m \u001b[0;32min\u001b[0m \u001b[0mrange\u001b[0m\u001b[0;34m(\u001b[0m\u001b[0;36m200\u001b[0m\u001b[0;34m)\u001b[0m\u001b[0;34m:\u001b[0m\u001b[0;34m\u001b[0m\u001b[0;34m\u001b[0m\u001b[0m\n\u001b[0;32m----> 7\u001b[0;31m     \u001b[0maction\u001b[0m \u001b[0;34m=\u001b[0m \u001b[0magent\u001b[0m\u001b[0;34m.\u001b[0m\u001b[0mact\u001b[0m\u001b[0;34m(\u001b[0m\u001b[0mstate\u001b[0m\u001b[0;34m)\u001b[0m\u001b[0;34m\u001b[0m\u001b[0;34m\u001b[0m\u001b[0m\n\u001b[0m\u001b[1;32m      8\u001b[0m     \u001b[0;32mif\u001b[0m \u001b[0mrender\u001b[0m\u001b[0;34m:\u001b[0m \u001b[0menv\u001b[0m\u001b[0;34m.\u001b[0m\u001b[0mrender\u001b[0m\u001b[0;34m(\u001b[0m\u001b[0;34m)\u001b[0m\u001b[0;34m\u001b[0m\u001b[0;34m\u001b[0m\u001b[0m\n\u001b[1;32m      9\u001b[0m     \u001b[0mstate\u001b[0m\u001b[0;34m,\u001b[0m \u001b[0mreward\u001b[0m\u001b[0;34m,\u001b[0m \u001b[0mdone\u001b[0m\u001b[0;34m,\u001b[0m \u001b[0m_\u001b[0m \u001b[0;34m=\u001b[0m \u001b[0menv\u001b[0m\u001b[0;34m.\u001b[0m\u001b[0mstep\u001b[0m\u001b[0;34m(\u001b[0m\u001b[0maction\u001b[0m\u001b[0;34m)\u001b[0m\u001b[0;34m\u001b[0m\u001b[0;34m\u001b[0m\u001b[0m\n",
            "\u001b[0;32m/content/drive/MyDrive/ECI/eci2019-DRL/Tema 4 - Aprendizaje Profundo por Refuerzo/code/dqn/dqn_agent.py\u001b[0m in \u001b[0;36mact\u001b[0;34m(self, state, eps)\u001b[0m\n\u001b[1;32m     52\u001b[0m             \u001b[0meps\u001b[0m \u001b[0;34m(\u001b[0m\u001b[0mfloat\u001b[0m\u001b[0;34m)\u001b[0m\u001b[0;34m:\u001b[0m \u001b[0mepsilon\u001b[0m\u001b[0;34m,\u001b[0m \u001b[0;32mfor\u001b[0m \u001b[0mepsilon\u001b[0m\u001b[0;34m-\u001b[0m\u001b[0mgreedy\u001b[0m \u001b[0maction\u001b[0m \u001b[0mselection\u001b[0m\u001b[0;34m\u001b[0m\u001b[0;34m\u001b[0m\u001b[0m\n\u001b[1;32m     53\u001b[0m         \"\"\"\n\u001b[0;32m---> 54\u001b[0;31m         \u001b[0mstate\u001b[0m \u001b[0;34m=\u001b[0m \u001b[0mtorch\u001b[0m\u001b[0;34m.\u001b[0m\u001b[0mfrom_numpy\u001b[0m\u001b[0;34m(\u001b[0m\u001b[0mstate\u001b[0m\u001b[0;34m)\u001b[0m\u001b[0;34m.\u001b[0m\u001b[0mfloat\u001b[0m\u001b[0;34m(\u001b[0m\u001b[0;34m)\u001b[0m\u001b[0;34m.\u001b[0m\u001b[0munsqueeze\u001b[0m\u001b[0;34m(\u001b[0m\u001b[0;36m0\u001b[0m\u001b[0;34m)\u001b[0m\u001b[0;34m.\u001b[0m\u001b[0mto\u001b[0m\u001b[0;34m(\u001b[0m\u001b[0mdevice\u001b[0m\u001b[0;34m)\u001b[0m\u001b[0;34m\u001b[0m\u001b[0;34m\u001b[0m\u001b[0m\n\u001b[0m\u001b[1;32m     55\u001b[0m         \u001b[0mself\u001b[0m\u001b[0;34m.\u001b[0m\u001b[0mqnetwork_local\u001b[0m\u001b[0;34m.\u001b[0m\u001b[0meval\u001b[0m\u001b[0;34m(\u001b[0m\u001b[0;34m)\u001b[0m\u001b[0;34m\u001b[0m\u001b[0;34m\u001b[0m\u001b[0m\n\u001b[1;32m     56\u001b[0m         \u001b[0;32mwith\u001b[0m \u001b[0mtorch\u001b[0m\u001b[0;34m.\u001b[0m\u001b[0mno_grad\u001b[0m\u001b[0;34m(\u001b[0m\u001b[0;34m)\u001b[0m\u001b[0;34m:\u001b[0m\u001b[0;34m\u001b[0m\u001b[0;34m\u001b[0m\u001b[0m\n",
            "\u001b[0;31mTypeError\u001b[0m: expected np.ndarray (got collections.OrderedDict)"
          ]
        }
      ]
    },
    {
      "cell_type": "markdown",
      "metadata": {
        "id": "dvhsh1Mt8RJ1"
      },
      "source": [
        "## Algoritmo\n",
        "A continuación se proporciona una implementación genérica del algoritmo Deep Q-Learning (DQN) y su aplicación a [LunarLander-v2](https://gym.openai.com/envs/LunarLander-v2/).\n",
        "\n",
        "Se considera que el entorno [LunarLander-v2](https://gym.openai.com/envs/LunarLander-v2/) está resuelto cuando se obtienen más de $200$ puntos de media durante 100 episodios consecutivos."
      ]
    },
    {
      "cell_type": "code",
      "metadata": {
        "id": "i-WgPfUt8RJ2"
      },
      "source": [
        "import gym\n",
        "import random\n",
        "import torch\n",
        "import numpy as np\n",
        "from collections import deque\n",
        "import matplotlib.pyplot as plt\n",
        "%matplotlib inline"
      ],
      "execution_count": 9,
      "outputs": []
    },
    {
      "cell_type": "code",
      "metadata": {
        "colab": {
          "base_uri": "https://localhost:8080/",
          "height": 350
        },
        "id": "3SjVV0yZ8RJ2",
        "outputId": "89677d20-e57a-4437-ba35-e33c960bb882"
      },
      "source": [
        "def dqn(n_episodes=2000, max_t=1000, eps_start=1.0, eps_end=0.01, eps_decay=0.995):\n",
        "    \"\"\"Deep Q-Learning.\n",
        "    \n",
        "    Params\n",
        "    ======\n",
        "        n_episodes (int): numero maximo de episodios de entrenamiento (n_episodios)\n",
        "        max_t (int): numero maximo de pasos por episodio (n_entrenamiento)\n",
        "        eps_start (float): valor inicial de epsilon\n",
        "        eps_end (float): valor final de epsilon\n",
        "        eps_decay (float): factor de multiplicacion (por episodio) de epsilon\n",
        "    \"\"\"\n",
        "    scores = []                        # puntuaciones de cada episodio\n",
        "    scores_window = deque(maxlen=100)  # puntuaciones de los ultimos 100 episodios\n",
        "    eps = eps_start                    # inicializar epsilon\n",
        "    for i_episode in range(1, n_episodes+1):\n",
        "        state = env.reset()\n",
        "        score = 0\n",
        "        for t in range(max_t):\n",
        "            \n",
        "            # elegir accion At con politica e-greedy\n",
        "            action = agent.act(state, eps)\n",
        "            \n",
        "            # aplicar At y obtener Rt+1, St+1\n",
        "            next_state, reward, done, _ = env.step(action)\n",
        "            \n",
        "            # almacenar <St, At, Rt+1, St+1>\n",
        "            agent.memory.add(state, action, reward, next_state, done)\n",
        "            \n",
        "            # train & update\n",
        "            agent.step(state, action, reward, next_state, done)\n",
        "            \n",
        "            # avanzar estado\n",
        "            state = next_state\n",
        "            score += reward\n",
        "            \n",
        "            if done:\n",
        "                break \n",
        "\n",
        "        scores_window.append(score)       # guardar ultima puntuacion\n",
        "        scores.append(score)              # guardar ultima puntuacion\n",
        "        eps = max(eps_end, eps_decay*eps) # reducir epsilon\n",
        "        \n",
        "        print('\\rEpisodio {}\\tPuntuacion media (ultimos {:d}): {:.2f}'.format(i_episode, 100, np.mean(scores_window)), end=\"\")\n",
        "        if i_episode % 100 == 0:\n",
        "            print('\\rEpisodio {}\\tPuntuacion media ({:d} anteriores): {:.2f}'.format(i_episode, 100, np.mean(scores_window)))\n",
        "        if np.mean(scores_window)>=200.0:\n",
        "            print('\\nProblema resuelto en {:d} episodios!\\tPuntuacion media (ultimos {:d}): {:.2f}'.format(i_episode-100, 100, np.mean(scores_window)))\n",
        "            torch.save(agent.qnetwork_local.state_dict(), 'checkpoint.pth') # guardar pesos de agente entrenado\n",
        "            break\n",
        "    return scores\n",
        "\n",
        "scores = dqn()\n",
        "\n",
        "# plot the scores\n",
        "fig = plt.figure()\n",
        "ax = fig.add_subplot(111)\n",
        "plt.plot(np.arange(len(scores)), scores)\n",
        "plt.ylabel('Puntuacion')\n",
        "plt.xlabel('Episodio #')\n",
        "plt.show()"
      ],
      "execution_count": 5,
      "outputs": [
        {
          "output_type": "error",
          "ename": "NameError",
          "evalue": "ignored",
          "traceback": [
            "\u001b[0;31m---------------------------------------------------------------------------\u001b[0m",
            "\u001b[0;31mNameError\u001b[0m                                 Traceback (most recent call last)",
            "\u001b[0;32m<ipython-input-5-8a5a25c5b580>\u001b[0m in \u001b[0;36m<module>\u001b[0;34m()\u001b[0m\n\u001b[1;32m     50\u001b[0m     \u001b[0;32mreturn\u001b[0m \u001b[0mscores\u001b[0m\u001b[0;34m\u001b[0m\u001b[0;34m\u001b[0m\u001b[0m\n\u001b[1;32m     51\u001b[0m \u001b[0;34m\u001b[0m\u001b[0m\n\u001b[0;32m---> 52\u001b[0;31m \u001b[0mscores\u001b[0m \u001b[0;34m=\u001b[0m \u001b[0mdqn\u001b[0m\u001b[0;34m(\u001b[0m\u001b[0;34m)\u001b[0m\u001b[0;34m\u001b[0m\u001b[0;34m\u001b[0m\u001b[0m\n\u001b[0m\u001b[1;32m     53\u001b[0m \u001b[0;34m\u001b[0m\u001b[0m\n\u001b[1;32m     54\u001b[0m \u001b[0;31m# plot the scores\u001b[0m\u001b[0;34m\u001b[0m\u001b[0;34m\u001b[0m\u001b[0;34m\u001b[0m\u001b[0m\n",
            "\u001b[0;32m<ipython-input-5-8a5a25c5b580>\u001b[0m in \u001b[0;36mdqn\u001b[0;34m(n_episodes, max_t, eps_start, eps_end, eps_decay)\u001b[0m\n\u001b[1;32m     11\u001b[0m     \"\"\"\n\u001b[1;32m     12\u001b[0m     \u001b[0mscores\u001b[0m \u001b[0;34m=\u001b[0m \u001b[0;34m[\u001b[0m\u001b[0;34m]\u001b[0m                        \u001b[0;31m# puntuaciones de cada episodio\u001b[0m\u001b[0;34m\u001b[0m\u001b[0;34m\u001b[0m\u001b[0m\n\u001b[0;32m---> 13\u001b[0;31m     \u001b[0mscores_window\u001b[0m \u001b[0;34m=\u001b[0m \u001b[0mdeque\u001b[0m\u001b[0;34m(\u001b[0m\u001b[0mmaxlen\u001b[0m\u001b[0;34m=\u001b[0m\u001b[0;36m100\u001b[0m\u001b[0;34m)\u001b[0m  \u001b[0;31m# puntuaciones de los ultimos 100 episodios\u001b[0m\u001b[0;34m\u001b[0m\u001b[0;34m\u001b[0m\u001b[0m\n\u001b[0m\u001b[1;32m     14\u001b[0m     \u001b[0meps\u001b[0m \u001b[0;34m=\u001b[0m \u001b[0meps_start\u001b[0m                    \u001b[0;31m# inicializar epsilon\u001b[0m\u001b[0;34m\u001b[0m\u001b[0;34m\u001b[0m\u001b[0m\n\u001b[1;32m     15\u001b[0m     \u001b[0;32mfor\u001b[0m \u001b[0mi_episode\u001b[0m \u001b[0;32min\u001b[0m \u001b[0mrange\u001b[0m\u001b[0;34m(\u001b[0m\u001b[0;36m1\u001b[0m\u001b[0;34m,\u001b[0m \u001b[0mn_episodes\u001b[0m\u001b[0;34m+\u001b[0m\u001b[0;36m1\u001b[0m\u001b[0;34m)\u001b[0m\u001b[0;34m:\u001b[0m\u001b[0;34m\u001b[0m\u001b[0;34m\u001b[0m\u001b[0m\n",
            "\u001b[0;31mNameError\u001b[0m: name 'deque' is not defined"
          ]
        }
      ]
    },
    {
      "cell_type": "markdown",
      "metadata": {
        "id": "pHacgx1n8RJ3"
      },
      "source": [
        "### Visualizar agente entrenado\n",
        "\n",
        "Podemos visualizar el comportamiento del agente entrenado cargando los pesos del fichero donde se han almacenado. (Solo en entorno local, no en Google Collaboratory.)"
      ]
    },
    {
      "cell_type": "code",
      "metadata": {
        "id": "lZ-CvB8j8RJ3"
      },
      "source": [
        "# cargar pesos del fichero `checkpoint.pth`\n",
        "agent.qnetwork_local.load_state_dict(torch.load('checkpoint.pth'))\n",
        "\n",
        "for i in range(3):\n",
        "    state = env.reset()\n",
        "    for j in range(200):\n",
        "        action = agent.act(state)\n",
        "        if render: env.render()\n",
        "        state, reward, done, _ = env.step(action)\n",
        "        if done:\n",
        "            break \n",
        "            \n",
        "env.close()"
      ],
      "execution_count": 11,
      "outputs": []
    },
    {
      "cell_type": "markdown",
      "metadata": {
        "id": "kzAWL02w8RJ3"
      },
      "source": [
        "---\n",
        "\n",
        "### Ampliación\n",
        "\n",
        "Trabajo de grid2op\n",
        "---"
      ]
    },
    {
      "cell_type": "code",
      "metadata": {
        "colab": {
          "base_uri": "https://localhost:8080/",
          "height": 1000
        },
        "id": "A8PJNuq8yW8J",
        "outputId": "0a3ae806-31ba-497a-9cea-e3c6dba96356"
      },
      "source": [
        " !pip install grid2op[optional]  # Para ejecutar el código en Colab"
      ],
      "execution_count": 12,
      "outputs": [
        {
          "output_type": "stream",
          "text": [
            "Collecting grid2op[optional]\n",
            "  Downloading Grid2Op-1.6.2.tar.gz (11.9 MB)\n",
            "\u001b[K     |████████████████████████████████| 11.9 MB 73 kB/s \n",
            "\u001b[?25hRequirement already satisfied: numpy>=1.18.3 in /usr/local/lib/python3.7/dist-packages (from grid2op[optional]) (1.19.5)\n",
            "Requirement already satisfied: scipy>=1.4.1 in /usr/local/lib/python3.7/dist-packages (from grid2op[optional]) (1.4.1)\n",
            "Requirement already satisfied: pandas>=1.0.3 in /usr/local/lib/python3.7/dist-packages (from grid2op[optional]) (1.1.5)\n",
            "Collecting pandapower>=2.2.2\n",
            "  Downloading pandapower-2.7.0.zip (5.8 MB)\n",
            "\u001b[K     |████████████████████████████████| 5.8 MB 23.3 MB/s \n",
            "\u001b[?25hCollecting tqdm>=4.45.0\n",
            "  Downloading tqdm-4.62.0-py2.py3-none-any.whl (76 kB)\n",
            "\u001b[K     |████████████████████████████████| 76 kB 4.3 MB/s \n",
            "\u001b[?25hRequirement already satisfied: pathlib>=1.0.1 in /usr/local/lib/python3.7/dist-packages (from grid2op[optional]) (1.0.1)\n",
            "Requirement already satisfied: networkx>=2.4 in /usr/local/lib/python3.7/dist-packages (from grid2op[optional]) (2.5.1)\n",
            "Requirement already satisfied: requests>=2.23.0 in /usr/local/lib/python3.7/dist-packages (from grid2op[optional]) (2.23.0)\n",
            "Requirement already satisfied: nbformat>=5.0.4 in /usr/local/lib/python3.7/dist-packages (from grid2op[optional]) (5.1.3)\n",
            "Collecting jupyter-client>=6.1.0\n",
            "  Downloading jupyter_client-6.1.12-py3-none-any.whl (112 kB)\n",
            "\u001b[K     |████████████████████████████████| 112 kB 67.9 MB/s \n",
            "\u001b[?25hCollecting jyquickhelper>=0.3.128\n",
            "  Downloading jyquickhelper-0.4.220-py3-none-any.whl (1.5 MB)\n",
            "\u001b[K     |████████████████████████████████| 1.5 MB 34.8 MB/s \n",
            "\u001b[?25hRequirement already satisfied: numba>=0.48.0 in /usr/local/lib/python3.7/dist-packages (from grid2op[optional]) (0.51.2)\n",
            "Requirement already satisfied: matplotlib>=3.2.1 in /usr/local/lib/python3.7/dist-packages (from grid2op[optional]) (3.2.2)\n",
            "Collecting plotly>=4.5.4\n",
            "  Downloading plotly-5.1.0-py2.py3-none-any.whl (20.6 MB)\n",
            "\u001b[K     |████████████████████████████████| 20.6 MB 1.1 MB/s \n",
            "\u001b[?25hRequirement already satisfied: seaborn>=0.10.0 in /usr/local/lib/python3.7/dist-packages (from grid2op[optional]) (0.11.1)\n",
            "Collecting imageio>=2.8.0\n",
            "  Downloading imageio-2.9.0-py3-none-any.whl (3.3 MB)\n",
            "\u001b[K     |████████████████████████████████| 3.3 MB 46.5 MB/s \n",
            "\u001b[?25hCollecting pygifsicle>=1.0.1\n",
            "  Downloading pygifsicle-1.0.4.tar.gz (5.1 kB)\n",
            "Collecting psutil>=5.7.0\n",
            "  Downloading psutil-5.8.0-cp37-cp37m-manylinux2010_x86_64.whl (296 kB)\n",
            "\u001b[K     |████████████████████████████████| 296 kB 47.8 MB/s \n",
            "\u001b[?25hRequirement already satisfied: gym>=0.17.2 in /usr/local/lib/python3.7/dist-packages (from grid2op[optional]) (0.17.3)\n",
            "Requirement already satisfied: cloudpickle<1.7.0,>=1.2.0 in /usr/local/lib/python3.7/dist-packages (from gym>=0.17.2->grid2op[optional]) (1.3.0)\n",
            "Requirement already satisfied: pyglet<=1.5.0,>=1.4.0 in /usr/local/lib/python3.7/dist-packages (from gym>=0.17.2->grid2op[optional]) (1.5.0)\n",
            "Requirement already satisfied: pillow in /usr/local/lib/python3.7/dist-packages (from imageio>=2.8.0->grid2op[optional]) (7.1.2)\n",
            "Requirement already satisfied: traitlets in /usr/local/lib/python3.7/dist-packages (from jupyter-client>=6.1.0->grid2op[optional]) (5.0.5)\n",
            "Requirement already satisfied: tornado>=4.1 in /usr/local/lib/python3.7/dist-packages (from jupyter-client>=6.1.0->grid2op[optional]) (5.1.1)\n",
            "Requirement already satisfied: jupyter-core>=4.6.0 in /usr/local/lib/python3.7/dist-packages (from jupyter-client>=6.1.0->grid2op[optional]) (4.7.1)\n",
            "Requirement already satisfied: pyzmq>=13 in /usr/local/lib/python3.7/dist-packages (from jupyter-client>=6.1.0->grid2op[optional]) (22.1.0)\n",
            "Requirement already satisfied: python-dateutil>=2.1 in /usr/local/lib/python3.7/dist-packages (from jupyter-client>=6.1.0->grid2op[optional]) (2.8.1)\n",
            "Requirement already satisfied: notebook in /usr/local/lib/python3.7/dist-packages (from jyquickhelper>=0.3.128->grid2op[optional]) (5.3.1)\n",
            "Requirement already satisfied: jupyter in /usr/local/lib/python3.7/dist-packages (from jyquickhelper>=0.3.128->grid2op[optional]) (1.0.0)\n",
            "Requirement already satisfied: ipython in /usr/local/lib/python3.7/dist-packages (from jyquickhelper>=0.3.128->grid2op[optional]) (5.5.0)\n",
            "Requirement already satisfied: kiwisolver>=1.0.1 in /usr/local/lib/python3.7/dist-packages (from matplotlib>=3.2.1->grid2op[optional]) (1.3.1)\n",
            "Requirement already satisfied: cycler>=0.10 in /usr/local/lib/python3.7/dist-packages (from matplotlib>=3.2.1->grid2op[optional]) (0.10.0)\n",
            "Requirement already satisfied: pyparsing!=2.0.4,!=2.1.2,!=2.1.6,>=2.0.1 in /usr/local/lib/python3.7/dist-packages (from matplotlib>=3.2.1->grid2op[optional]) (2.4.7)\n",
            "Requirement already satisfied: six in /usr/local/lib/python3.7/dist-packages (from cycler>=0.10->matplotlib>=3.2.1->grid2op[optional]) (1.15.0)\n",
            "Requirement already satisfied: ipython-genutils in /usr/local/lib/python3.7/dist-packages (from nbformat>=5.0.4->grid2op[optional]) (0.2.0)\n",
            "Requirement already satisfied: jsonschema!=2.5.0,>=2.4 in /usr/local/lib/python3.7/dist-packages (from nbformat>=5.0.4->grid2op[optional]) (2.6.0)\n",
            "Requirement already satisfied: decorator<5,>=4.3 in /usr/local/lib/python3.7/dist-packages (from networkx>=2.4->grid2op[optional]) (4.4.2)\n",
            "Requirement already satisfied: setuptools in /usr/local/lib/python3.7/dist-packages (from numba>=0.48.0->grid2op[optional]) (57.2.0)\n",
            "Requirement already satisfied: llvmlite<0.35,>=0.34.0.dev0 in /usr/local/lib/python3.7/dist-packages (from numba>=0.48.0->grid2op[optional]) (0.34.0)\n",
            "Requirement already satisfied: packaging in /usr/local/lib/python3.7/dist-packages (from pandapower>=2.2.2->grid2op[optional]) (21.0)\n",
            "Collecting xlsxwriter\n",
            "  Downloading XlsxWriter-3.0.1-py3-none-any.whl (148 kB)\n",
            "\u001b[K     |████████████████████████████████| 148 kB 44.8 MB/s \n",
            "\u001b[?25hRequirement already satisfied: xlrd in /usr/local/lib/python3.7/dist-packages (from pandapower>=2.2.2->grid2op[optional]) (1.1.0)\n",
            "Requirement already satisfied: openpyxl in /usr/local/lib/python3.7/dist-packages (from pandapower>=2.2.2->grid2op[optional]) (2.5.9)\n",
            "Collecting cryptography\n",
            "  Downloading cryptography-3.4.7-cp36-abi3-manylinux2014_x86_64.whl (3.2 MB)\n",
            "\u001b[K     |████████████████████████████████| 3.2 MB 47.5 MB/s \n",
            "\u001b[?25hRequirement already satisfied: pytz>=2017.2 in /usr/local/lib/python3.7/dist-packages (from pandas>=1.0.3->grid2op[optional]) (2018.9)\n",
            "Collecting tenacity>=6.2.0\n",
            "  Downloading tenacity-8.0.1-py3-none-any.whl (24 kB)\n",
            "Requirement already satisfied: future in /usr/local/lib/python3.7/dist-packages (from pyglet<=1.5.0,>=1.4.0->gym>=0.17.2->grid2op[optional]) (0.16.0)\n",
            "Requirement already satisfied: idna<3,>=2.5 in /usr/local/lib/python3.7/dist-packages (from requests>=2.23.0->grid2op[optional]) (2.10)\n",
            "Requirement already satisfied: urllib3!=1.25.0,!=1.25.1,<1.26,>=1.21.1 in /usr/local/lib/python3.7/dist-packages (from requests>=2.23.0->grid2op[optional]) (1.24.3)\n",
            "Requirement already satisfied: certifi>=2017.4.17 in /usr/local/lib/python3.7/dist-packages (from requests>=2.23.0->grid2op[optional]) (2021.5.30)\n",
            "Requirement already satisfied: chardet<4,>=3.0.2 in /usr/local/lib/python3.7/dist-packages (from requests>=2.23.0->grid2op[optional]) (3.0.4)\n",
            "Requirement already satisfied: cffi>=1.12 in /usr/local/lib/python3.7/dist-packages (from cryptography->pandapower>=2.2.2->grid2op[optional]) (1.14.6)\n",
            "Requirement already satisfied: pycparser in /usr/local/lib/python3.7/dist-packages (from cffi>=1.12->cryptography->pandapower>=2.2.2->grid2op[optional]) (2.20)\n",
            "Requirement already satisfied: pickleshare in /usr/local/lib/python3.7/dist-packages (from ipython->jyquickhelper>=0.3.128->grid2op[optional]) (0.7.5)\n",
            "Requirement already satisfied: pexpect in /usr/local/lib/python3.7/dist-packages (from ipython->jyquickhelper>=0.3.128->grid2op[optional]) (4.8.0)\n",
            "Requirement already satisfied: simplegeneric>0.8 in /usr/local/lib/python3.7/dist-packages (from ipython->jyquickhelper>=0.3.128->grid2op[optional]) (0.8.1)\n",
            "Requirement already satisfied: pygments in /usr/local/lib/python3.7/dist-packages (from ipython->jyquickhelper>=0.3.128->grid2op[optional]) (2.6.1)\n",
            "Requirement already satisfied: prompt-toolkit<2.0.0,>=1.0.4 in /usr/local/lib/python3.7/dist-packages (from ipython->jyquickhelper>=0.3.128->grid2op[optional]) (1.0.18)\n",
            "Requirement already satisfied: wcwidth in /usr/local/lib/python3.7/dist-packages (from prompt-toolkit<2.0.0,>=1.0.4->ipython->jyquickhelper>=0.3.128->grid2op[optional]) (0.2.5)\n",
            "Requirement already satisfied: nbconvert in /usr/local/lib/python3.7/dist-packages (from jupyter->jyquickhelper>=0.3.128->grid2op[optional]) (5.6.1)\n",
            "Requirement already satisfied: ipykernel in /usr/local/lib/python3.7/dist-packages (from jupyter->jyquickhelper>=0.3.128->grid2op[optional]) (4.10.1)\n",
            "Requirement already satisfied: qtconsole in /usr/local/lib/python3.7/dist-packages (from jupyter->jyquickhelper>=0.3.128->grid2op[optional]) (5.1.1)\n",
            "Requirement already satisfied: ipywidgets in /usr/local/lib/python3.7/dist-packages (from jupyter->jyquickhelper>=0.3.128->grid2op[optional]) (7.6.3)\n",
            "Requirement already satisfied: jupyter-console in /usr/local/lib/python3.7/dist-packages (from jupyter->jyquickhelper>=0.3.128->grid2op[optional]) (5.2.0)\n",
            "Requirement already satisfied: widgetsnbextension~=3.5.0 in /usr/local/lib/python3.7/dist-packages (from ipywidgets->jupyter->jyquickhelper>=0.3.128->grid2op[optional]) (3.5.1)\n",
            "Requirement already satisfied: jupyterlab-widgets>=1.0.0 in /usr/local/lib/python3.7/dist-packages (from ipywidgets->jupyter->jyquickhelper>=0.3.128->grid2op[optional]) (1.0.0)\n",
            "Requirement already satisfied: jinja2 in /usr/local/lib/python3.7/dist-packages (from notebook->jyquickhelper>=0.3.128->grid2op[optional]) (2.11.3)\n",
            "Requirement already satisfied: Send2Trash in /usr/local/lib/python3.7/dist-packages (from notebook->jyquickhelper>=0.3.128->grid2op[optional]) (1.7.1)\n",
            "Requirement already satisfied: terminado>=0.8.1 in /usr/local/lib/python3.7/dist-packages (from notebook->jyquickhelper>=0.3.128->grid2op[optional]) (0.10.1)\n",
            "Requirement already satisfied: ptyprocess in /usr/local/lib/python3.7/dist-packages (from terminado>=0.8.1->notebook->jyquickhelper>=0.3.128->grid2op[optional]) (0.7.0)\n",
            "Requirement already satisfied: MarkupSafe>=0.23 in /usr/local/lib/python3.7/dist-packages (from jinja2->notebook->jyquickhelper>=0.3.128->grid2op[optional]) (2.0.1)\n",
            "Requirement already satisfied: pandocfilters>=1.4.1 in /usr/local/lib/python3.7/dist-packages (from nbconvert->jupyter->jyquickhelper>=0.3.128->grid2op[optional]) (1.4.3)\n",
            "Requirement already satisfied: entrypoints>=0.2.2 in /usr/local/lib/python3.7/dist-packages (from nbconvert->jupyter->jyquickhelper>=0.3.128->grid2op[optional]) (0.3)\n",
            "Requirement already satisfied: defusedxml in /usr/local/lib/python3.7/dist-packages (from nbconvert->jupyter->jyquickhelper>=0.3.128->grid2op[optional]) (0.7.1)\n",
            "Requirement already satisfied: mistune<2,>=0.8.1 in /usr/local/lib/python3.7/dist-packages (from nbconvert->jupyter->jyquickhelper>=0.3.128->grid2op[optional]) (0.8.4)\n",
            "Requirement already satisfied: bleach in /usr/local/lib/python3.7/dist-packages (from nbconvert->jupyter->jyquickhelper>=0.3.128->grid2op[optional]) (3.3.0)\n",
            "Requirement already satisfied: testpath in /usr/local/lib/python3.7/dist-packages (from nbconvert->jupyter->jyquickhelper>=0.3.128->grid2op[optional]) (0.5.0)\n",
            "Requirement already satisfied: webencodings in /usr/local/lib/python3.7/dist-packages (from bleach->nbconvert->jupyter->jyquickhelper>=0.3.128->grid2op[optional]) (0.5.1)\n",
            "Requirement already satisfied: et-xmlfile in /usr/local/lib/python3.7/dist-packages (from openpyxl->pandapower>=2.2.2->grid2op[optional]) (1.1.0)\n",
            "Requirement already satisfied: jdcal in /usr/local/lib/python3.7/dist-packages (from openpyxl->pandapower>=2.2.2->grid2op[optional]) (1.4.1)\n",
            "Requirement already satisfied: qtpy in /usr/local/lib/python3.7/dist-packages (from qtconsole->jupyter->jyquickhelper>=0.3.128->grid2op[optional]) (1.9.0)\n",
            "Building wheels for collected packages: grid2op, pandapower, pygifsicle\n",
            "  Building wheel for grid2op (setup.py) ... \u001b[?25l\u001b[?25hdone\n",
            "  Created wheel for grid2op: filename=Grid2Op-1.6.2-py3-none-any.whl size=12150152 sha256=47375aa66d7ccd6de39f048388d56d5ba02a1dc733c008fddacd37cec46e286f\n",
            "  Stored in directory: /root/.cache/pip/wheels/d0/12/bf/e2cb4f3b2fd2a85af617053e46e272de1866c647f6640f3ad4\n",
            "  Building wheel for pandapower (setup.py) ... \u001b[?25l\u001b[?25hdone\n",
            "  Created wheel for pandapower: filename=pandapower-2.7.0-py3-none-any.whl size=5777359 sha256=287a80ae351984764db3a687e53c8d9b6a2fdcdb99a720d3cb8788d2e98a1b4f\n",
            "  Stored in directory: /root/.cache/pip/wheels/ff/e6/b6/c9218d5a45a02f4bdb220272f2bac4f59c5b73ed08a08125c3\n",
            "  Building wheel for pygifsicle (setup.py) ... \u001b[?25l\u001b[?25hdone\n",
            "  Created wheel for pygifsicle: filename=pygifsicle-1.0.4-py3-none-any.whl size=4604 sha256=9d8968762690965c9fdc52a86a5735b44d0dedb5c618494e233e88d0ad584ffb\n",
            "  Stored in directory: /root/.cache/pip/wheels/aa/45/0f/0fa1597c113ec753dedd8bd4ec69e4d606f05bfee6c8a2d1df\n",
            "Successfully built grid2op pandapower pygifsicle\n",
            "Installing collected packages: jupyter-client, xlsxwriter, cryptography, tqdm, tenacity, pandapower, pygifsicle, psutil, plotly, jyquickhelper, imageio, grid2op\n",
            "  Attempting uninstall: jupyter-client\n",
            "    Found existing installation: jupyter-client 5.3.5\n",
            "    Uninstalling jupyter-client-5.3.5:\n",
            "      Successfully uninstalled jupyter-client-5.3.5\n",
            "  Attempting uninstall: tqdm\n",
            "    Found existing installation: tqdm 4.41.1\n",
            "    Uninstalling tqdm-4.41.1:\n",
            "      Successfully uninstalled tqdm-4.41.1\n",
            "  Attempting uninstall: psutil\n",
            "    Found existing installation: psutil 5.4.8\n",
            "    Uninstalling psutil-5.4.8:\n",
            "      Successfully uninstalled psutil-5.4.8\n",
            "  Attempting uninstall: plotly\n",
            "    Found existing installation: plotly 4.4.1\n",
            "    Uninstalling plotly-4.4.1:\n",
            "      Successfully uninstalled plotly-4.4.1\n",
            "  Attempting uninstall: imageio\n",
            "    Found existing installation: imageio 2.4.1\n",
            "    Uninstalling imageio-2.4.1:\n",
            "      Successfully uninstalled imageio-2.4.1\n",
            "\u001b[31mERROR: pip's dependency resolver does not currently take into account all the packages that are installed. This behaviour is the source of the following dependency conflicts.\n",
            "albumentations 0.1.12 requires imgaug<0.2.7,>=0.2.5, but you have imgaug 0.2.9 which is incompatible.\u001b[0m\n",
            "Successfully installed cryptography-3.4.7 grid2op-1.6.2 imageio-2.9.0 jupyter-client-6.1.12 jyquickhelper-0.4.220 pandapower-2.7.0 plotly-5.1.0 psutil-5.8.0 pygifsicle-1.0.4 tenacity-8.0.1 tqdm-4.62.0 xlsxwriter-3.0.1\n"
          ],
          "name": "stdout"
        },
        {
          "output_type": "display_data",
          "data": {
            "application/vnd.colab-display-data+json": {
              "pip_warning": {
                "packages": [
                  "jupyter_client",
                  "psutil",
                  "tqdm"
                ]
              }
            }
          },
          "metadata": {
            "tags": []
          }
        }
      ]
    },
    {
      "cell_type": "code",
      "metadata": {
        "colab": {
          "base_uri": "https://localhost:8080/"
        },
        "id": "_NBITdwlCWO9",
        "outputId": "d7db6ba4-53ae-4123-f477-3efe648bb055"
      },
      "source": [
        " !pip install jyquickhelper # Para ejecutar el código en Colab"
      ],
      "execution_count": 3,
      "outputs": [
        {
          "output_type": "stream",
          "text": [
            "Requirement already satisfied: jyquickhelper in /usr/local/lib/python3.7/dist-packages (0.4.220)\n",
            "Requirement already satisfied: ipython in /usr/local/lib/python3.7/dist-packages (from jyquickhelper) (5.5.0)\n",
            "Requirement already satisfied: notebook in /usr/local/lib/python3.7/dist-packages (from jyquickhelper) (5.3.1)\n",
            "Requirement already satisfied: jupyter in /usr/local/lib/python3.7/dist-packages (from jyquickhelper) (1.0.0)\n",
            "Requirement already satisfied: traitlets>=4.2 in /usr/local/lib/python3.7/dist-packages (from ipython->jyquickhelper) (5.0.5)\n",
            "Requirement already satisfied: simplegeneric>0.8 in /usr/local/lib/python3.7/dist-packages (from ipython->jyquickhelper) (0.8.1)\n",
            "Requirement already satisfied: pygments in /usr/local/lib/python3.7/dist-packages (from ipython->jyquickhelper) (2.6.1)\n",
            "Requirement already satisfied: setuptools>=18.5 in /usr/local/lib/python3.7/dist-packages (from ipython->jyquickhelper) (57.2.0)\n",
            "Requirement already satisfied: decorator in /usr/local/lib/python3.7/dist-packages (from ipython->jyquickhelper) (4.4.2)\n",
            "Requirement already satisfied: pickleshare in /usr/local/lib/python3.7/dist-packages (from ipython->jyquickhelper) (0.7.5)\n",
            "Requirement already satisfied: pexpect in /usr/local/lib/python3.7/dist-packages (from ipython->jyquickhelper) (4.8.0)\n",
            "Requirement already satisfied: prompt-toolkit<2.0.0,>=1.0.4 in /usr/local/lib/python3.7/dist-packages (from ipython->jyquickhelper) (1.0.18)\n",
            "Requirement already satisfied: wcwidth in /usr/local/lib/python3.7/dist-packages (from prompt-toolkit<2.0.0,>=1.0.4->ipython->jyquickhelper) (0.2.5)\n",
            "Requirement already satisfied: six>=1.9.0 in /usr/local/lib/python3.7/dist-packages (from prompt-toolkit<2.0.0,>=1.0.4->ipython->jyquickhelper) (1.15.0)\n",
            "Requirement already satisfied: ipython-genutils in /usr/local/lib/python3.7/dist-packages (from traitlets>=4.2->ipython->jyquickhelper) (0.2.0)\n",
            "Requirement already satisfied: nbconvert in /usr/local/lib/python3.7/dist-packages (from jupyter->jyquickhelper) (5.6.1)\n",
            "Requirement already satisfied: ipywidgets in /usr/local/lib/python3.7/dist-packages (from jupyter->jyquickhelper) (7.6.3)\n",
            "Requirement already satisfied: ipykernel in /usr/local/lib/python3.7/dist-packages (from jupyter->jyquickhelper) (4.10.1)\n",
            "Requirement already satisfied: jupyter-console in /usr/local/lib/python3.7/dist-packages (from jupyter->jyquickhelper) (5.2.0)\n",
            "Requirement already satisfied: qtconsole in /usr/local/lib/python3.7/dist-packages (from jupyter->jyquickhelper) (5.1.1)\n",
            "Requirement already satisfied: jupyter-client in /usr/local/lib/python3.7/dist-packages (from ipykernel->jupyter->jyquickhelper) (6.1.12)\n",
            "Requirement already satisfied: tornado>=4.0 in /usr/local/lib/python3.7/dist-packages (from ipykernel->jupyter->jyquickhelper) (5.1.1)\n",
            "Requirement already satisfied: nbformat>=4.2.0 in /usr/local/lib/python3.7/dist-packages (from ipywidgets->jupyter->jyquickhelper) (5.1.3)\n",
            "Requirement already satisfied: jupyterlab-widgets>=1.0.0 in /usr/local/lib/python3.7/dist-packages (from ipywidgets->jupyter->jyquickhelper) (1.0.0)\n",
            "Requirement already satisfied: widgetsnbextension~=3.5.0 in /usr/local/lib/python3.7/dist-packages (from ipywidgets->jupyter->jyquickhelper) (3.5.1)\n",
            "Requirement already satisfied: jsonschema!=2.5.0,>=2.4 in /usr/local/lib/python3.7/dist-packages (from nbformat>=4.2.0->ipywidgets->jupyter->jyquickhelper) (2.6.0)\n",
            "Requirement already satisfied: jupyter-core in /usr/local/lib/python3.7/dist-packages (from nbformat>=4.2.0->ipywidgets->jupyter->jyquickhelper) (4.7.1)\n",
            "Requirement already satisfied: Send2Trash in /usr/local/lib/python3.7/dist-packages (from notebook->jyquickhelper) (1.7.1)\n",
            "Requirement already satisfied: jinja2 in /usr/local/lib/python3.7/dist-packages (from notebook->jyquickhelper) (2.11.3)\n",
            "Requirement already satisfied: terminado>=0.8.1 in /usr/local/lib/python3.7/dist-packages (from notebook->jyquickhelper) (0.10.1)\n",
            "Requirement already satisfied: python-dateutil>=2.1 in /usr/local/lib/python3.7/dist-packages (from jupyter-client->ipykernel->jupyter->jyquickhelper) (2.8.1)\n",
            "Requirement already satisfied: pyzmq>=13 in /usr/local/lib/python3.7/dist-packages (from jupyter-client->ipykernel->jupyter->jyquickhelper) (22.1.0)\n",
            "Requirement already satisfied: ptyprocess in /usr/local/lib/python3.7/dist-packages (from terminado>=0.8.1->notebook->jyquickhelper) (0.7.0)\n",
            "Requirement already satisfied: MarkupSafe>=0.23 in /usr/local/lib/python3.7/dist-packages (from jinja2->notebook->jyquickhelper) (2.0.1)\n",
            "Requirement already satisfied: entrypoints>=0.2.2 in /usr/local/lib/python3.7/dist-packages (from nbconvert->jupyter->jyquickhelper) (0.3)\n",
            "Requirement already satisfied: mistune<2,>=0.8.1 in /usr/local/lib/python3.7/dist-packages (from nbconvert->jupyter->jyquickhelper) (0.8.4)\n",
            "Requirement already satisfied: testpath in /usr/local/lib/python3.7/dist-packages (from nbconvert->jupyter->jyquickhelper) (0.5.0)\n",
            "Requirement already satisfied: defusedxml in /usr/local/lib/python3.7/dist-packages (from nbconvert->jupyter->jyquickhelper) (0.7.1)\n",
            "Requirement already satisfied: bleach in /usr/local/lib/python3.7/dist-packages (from nbconvert->jupyter->jyquickhelper) (3.3.0)\n",
            "Requirement already satisfied: pandocfilters>=1.4.1 in /usr/local/lib/python3.7/dist-packages (from nbconvert->jupyter->jyquickhelper) (1.4.3)\n",
            "Requirement already satisfied: webencodings in /usr/local/lib/python3.7/dist-packages (from bleach->nbconvert->jupyter->jyquickhelper) (0.5.1)\n",
            "Requirement already satisfied: packaging in /usr/local/lib/python3.7/dist-packages (from bleach->nbconvert->jupyter->jyquickhelper) (21.0)\n",
            "Requirement already satisfied: pyparsing>=2.0.2 in /usr/local/lib/python3.7/dist-packages (from packaging->bleach->nbconvert->jupyter->jyquickhelper) (2.4.7)\n",
            "Requirement already satisfied: qtpy in /usr/local/lib/python3.7/dist-packages (from qtconsole->jupyter->jyquickhelper) (1.9.0)\n"
          ],
          "name": "stdout"
        }
      ]
    },
    {
      "cell_type": "code",
      "metadata": {
        "id": "kOtfvQPuCZNv"
      },
      "source": [
        "import os\n",
        "import sys\n",
        "import grid2op"
      ],
      "execution_count": 1,
      "outputs": []
    },
    {
      "cell_type": "code",
      "metadata": {
        "colab": {
          "base_uri": "https://localhost:8080/"
        },
        "id": "InNRtFm1CbQn",
        "outputId": "320dd8a4-0888-4f14-e3ef-a7966298d3aa"
      },
      "source": [
        "# import the usefull classes\n",
        "import numpy as np\n",
        "import shutil\n",
        "from tqdm.notebook import tqdm  # for easy progress bar\n",
        "\n",
        "from grid2op import make\n",
        "from grid2op.Agent import DoNothingAgent\n",
        "\n",
        "from grid2op.Reward import GameplayReward, L2RPNReward\n",
        "\n",
        "max_iter = 50 # Se consideran 50 iteraciones para que sea más rápido\n",
        "train_iter = 50\n",
        "max_eval_step = 20\n",
        "env_name = \"rte_case14_redisp\"\n",
        "env = make(env_name, test=False, reward_class=L2RPNReward)\n",
        "env.seed(0)  # Una semilla para que los agentes sean reproducibles"
      ],
      "execution_count": 2,
      "outputs": [
        {
          "output_type": "execute_result",
          "data": {
            "text/plain": [
              "(1537364731,\n",
              " (209652396, 2087557356),\n",
              " (398764591,),\n",
              " (924231285,),\n",
              " (1478610112,),\n",
              " ((441365315,), (633163265,)),\n",
              " (1537364731,))"
            ]
          },
          "metadata": {
            "tags": []
          },
          "execution_count": 2
        }
      ]
    },
    {
      "cell_type": "code",
      "metadata": {
        "colab": {
          "base_uri": "https://localhost:8080/",
          "height": 231
        },
        "id": "ho5blW7VCd_w",
        "outputId": "e7c8df07-ff25-41ab-e5a8-da6587b1e596"
      },
      "source": [
        "scores = dqn()\n",
        "\n",
        "# plot the scores\n",
        "fig = plt.figure()\n",
        "ax = fig.add_subplot(111)\n",
        "plt.plot(np.arange(len(scores)), scores)\n",
        "plt.ylabel('Puntuacion')\n",
        "plt.xlabel('Episodio #')\n",
        "plt.show()"
      ],
      "execution_count": 4,
      "outputs": [
        {
          "output_type": "error",
          "ename": "NameError",
          "evalue": "ignored",
          "traceback": [
            "\u001b[0;31m---------------------------------------------------------------------------\u001b[0m",
            "\u001b[0;31mNameError\u001b[0m                                 Traceback (most recent call last)",
            "\u001b[0;32m<ipython-input-4-cf28a1014598>\u001b[0m in \u001b[0;36m<module>\u001b[0;34m()\u001b[0m\n\u001b[0;32m----> 1\u001b[0;31m \u001b[0mscores\u001b[0m \u001b[0;34m=\u001b[0m \u001b[0mdqn\u001b[0m\u001b[0;34m(\u001b[0m\u001b[0;34m)\u001b[0m\u001b[0;34m\u001b[0m\u001b[0;34m\u001b[0m\u001b[0m\n\u001b[0m\u001b[1;32m      2\u001b[0m \u001b[0;34m\u001b[0m\u001b[0m\n\u001b[1;32m      3\u001b[0m \u001b[0;31m# plot the scores\u001b[0m\u001b[0;34m\u001b[0m\u001b[0;34m\u001b[0m\u001b[0;34m\u001b[0m\u001b[0m\n\u001b[1;32m      4\u001b[0m \u001b[0mfig\u001b[0m \u001b[0;34m=\u001b[0m \u001b[0mplt\u001b[0m\u001b[0;34m.\u001b[0m\u001b[0mfigure\u001b[0m\u001b[0;34m(\u001b[0m\u001b[0;34m)\u001b[0m\u001b[0;34m\u001b[0m\u001b[0;34m\u001b[0m\u001b[0m\n\u001b[1;32m      5\u001b[0m \u001b[0max\u001b[0m \u001b[0;34m=\u001b[0m \u001b[0mfig\u001b[0m\u001b[0;34m.\u001b[0m\u001b[0madd_subplot\u001b[0m\u001b[0;34m(\u001b[0m\u001b[0;36m111\u001b[0m\u001b[0;34m)\u001b[0m\u001b[0;34m\u001b[0m\u001b[0;34m\u001b[0m\u001b[0m\n",
            "\u001b[0;31mNameError\u001b[0m: name 'dqn' is not defined"
          ]
        }
      ]
    },
    {
      "cell_type": "code",
      "metadata": {
        "colab": {
          "base_uri": "https://localhost:8080/"
        },
        "id": "6ADr1Y27HA_f",
        "outputId": "d5474c63-7acc-430b-a0ce-980758fd91b7"
      },
      "source": [
        "!pip install git+https://github.com/DLR-RM/stable-baselines3"
      ],
      "execution_count": 14,
      "outputs": [
        {
          "output_type": "stream",
          "text": [
            "Collecting git+https://github.com/DLR-RM/stable-baselines3\n",
            "  Cloning https://github.com/DLR-RM/stable-baselines3 to /tmp/pip-req-build-udq0glov\n",
            "  Running command git clone -q https://github.com/DLR-RM/stable-baselines3 /tmp/pip-req-build-udq0glov\n",
            "Requirement already satisfied: gym>=0.17 in /usr/local/lib/python3.7/dist-packages (from stable-baselines3==1.2.0a1) (0.17.3)\n",
            "Requirement already satisfied: numpy in /usr/local/lib/python3.7/dist-packages (from stable-baselines3==1.2.0a1) (1.19.5)\n",
            "Requirement already satisfied: torch>=1.8.1 in /usr/local/lib/python3.7/dist-packages (from stable-baselines3==1.2.0a1) (1.9.0+cu102)\n",
            "Requirement already satisfied: cloudpickle in /usr/local/lib/python3.7/dist-packages (from stable-baselines3==1.2.0a1) (1.3.0)\n",
            "Requirement already satisfied: pandas in /usr/local/lib/python3.7/dist-packages (from stable-baselines3==1.2.0a1) (1.1.5)\n",
            "Requirement already satisfied: matplotlib in /usr/local/lib/python3.7/dist-packages (from stable-baselines3==1.2.0a1) (3.2.2)\n",
            "Requirement already satisfied: pyglet<=1.5.0,>=1.4.0 in /usr/local/lib/python3.7/dist-packages (from gym>=0.17->stable-baselines3==1.2.0a1) (1.5.0)\n",
            "Requirement already satisfied: scipy in /usr/local/lib/python3.7/dist-packages (from gym>=0.17->stable-baselines3==1.2.0a1) (1.4.1)\n",
            "Requirement already satisfied: future in /usr/local/lib/python3.7/dist-packages (from pyglet<=1.5.0,>=1.4.0->gym>=0.17->stable-baselines3==1.2.0a1) (0.16.0)\n",
            "Requirement already satisfied: typing-extensions in /usr/local/lib/python3.7/dist-packages (from torch>=1.8.1->stable-baselines3==1.2.0a1) (3.7.4.3)\n",
            "Requirement already satisfied: cycler>=0.10 in /usr/local/lib/python3.7/dist-packages (from matplotlib->stable-baselines3==1.2.0a1) (0.10.0)\n",
            "Requirement already satisfied: python-dateutil>=2.1 in /usr/local/lib/python3.7/dist-packages (from matplotlib->stable-baselines3==1.2.0a1) (2.8.1)\n",
            "Requirement already satisfied: pyparsing!=2.0.4,!=2.1.2,!=2.1.6,>=2.0.1 in /usr/local/lib/python3.7/dist-packages (from matplotlib->stable-baselines3==1.2.0a1) (2.4.7)\n",
            "Requirement already satisfied: kiwisolver>=1.0.1 in /usr/local/lib/python3.7/dist-packages (from matplotlib->stable-baselines3==1.2.0a1) (1.3.1)\n",
            "Requirement already satisfied: six in /usr/local/lib/python3.7/dist-packages (from cycler>=0.10->matplotlib->stable-baselines3==1.2.0a1) (1.15.0)\n",
            "Requirement already satisfied: pytz>=2017.2 in /usr/local/lib/python3.7/dist-packages (from pandas->stable-baselines3==1.2.0a1) (2018.9)\n",
            "Building wheels for collected packages: stable-baselines3\n",
            "  Building wheel for stable-baselines3 (setup.py) ... \u001b[?25l\u001b[?25hdone\n",
            "  Created wheel for stable-baselines3: filename=stable_baselines3-1.2.0a1-py3-none-any.whl size=160853 sha256=b5b5ea7b44c01972ecf7136161cb53dfcf7579bf422a7dd8567b085d9f2b230a\n",
            "  Stored in directory: /tmp/pip-ephem-wheel-cache-ub6tl625/wheels/2b/88/65/5d0cb266b061107af8c518096240bea8578e9843716f79e4da\n",
            "Successfully built stable-baselines3\n",
            "Installing collected packages: stable-baselines3\n",
            "Successfully installed stable-baselines3-1.2.0a1\n"
          ],
          "name": "stdout"
        }
      ]
    },
    {
      "cell_type": "code",
      "metadata": {
        "id": "mMvFsz7dG1sA"
      },
      "source": [
        "from grid2op.Reward import L2RPNReward\n",
        "\n",
        "from grid2op.gym_compat import GymEnv, MultiDiscreteActSpace\n",
        "\n",
        "from stable_baselines3.common.policies import BasePolicy\n",
        "from stable_baselines3 import A2C, PPO\n",
        "from stable_baselines3.common.env_checker import check_env\n",
        "from pprint import pprint #Para ver los diccionarios con una estructura más elegante de la que ofrece print convencional"
      ],
      "execution_count": 15,
      "outputs": []
    },
    {
      "cell_type": "code",
      "metadata": {
        "colab": {
          "base_uri": "https://localhost:8080/"
        },
        "id": "LIaDF8gQG4K6",
        "outputId": "6053dcf9-e43b-4211-aab8-dae270921bc1"
      },
      "source": [
        "gym_env = GymEnv(env)\n",
        "# Aunque el espacio de observaciones y acciones ya es correcto, Stable Baselines 3 no tiene soporte para espacio de acciones mixtos basados en diccionarios\n",
        "# Por lo que no nos queda más remedio que discretizar todo el espacio de acciones (leer docstring de https://github.com/rte-france/Grid2Op/blob/master/grid2op/gym_compat/multidiscrete_gym_actspace.py)\n",
        "print(\"Espacio de acciones original: {}\".format(gym_env.action_space))\n",
        "gym_env.action_space = MultiDiscreteActSpace(gym_env.init_env.action_space)\n",
        "print(\"Espacio de acciones discretizado: {}\".format(gym_env.action_space))"
      ],
      "execution_count": 16,
      "outputs": [
        {
          "output_type": "stream",
          "text": [
            "Espacio de acciones original: Dict(change_bus:MultiBinary(56), change_line_status:MultiBinary(20), redispatch:Box(-10.0, 10.0, (5,), float32), set_bus:Box(-1, 2, (56,), int32), set_line_status:Box(-1, 1, (20,), int32))\n",
            "Espacio de acciones discretizado: MultiDiscrete([2 2 2 2 2 2 2 2 2 2 2 2 2 2 2 2 2 2 2 2 2 2 2 2 2 2 2 2 2 2 2 2 2 2 2 2 2\n",
            " 2 2 2 2 2 2 2 2 2 2 2 2 2 2 2 2 2 2 2 2 2 2 2 2 2 2 2 2 2 2 2 2 2 2 2 2 2\n",
            " 2 2 7 7 1 1 7 4 4 4 4 4 4 4 4 4 4 4 4 4 4 4 4 4 4 4 4 4 4 4 4 4 4 4 4 4 4\n",
            " 4 4 4 4 4 4 4 4 4 4 4 4 4 4 4 4 4 4 4 4 4 4 4 4 4 4 3 3 3 3 3 3 3 3 3 3 3\n",
            " 3 3 3 3 3 3 3 3 3])\n"
          ],
          "name": "stdout"
        },
        {
          "output_type": "stream",
          "text": [
            "/usr/local/lib/python3.7/dist-packages/grid2op/gym_compat/multidiscrete_gym_actspace.py:170: UserWarning: The class \"MultiDiscreteActSpace\" should mainly be used to consider only discrete actions (eg. set_line_status, set_bus or change_bus). Though it is possible to use \"redispatch\" when building it, be aware that this continuous action will be treated as discrete by splitting it into bins. Consider using the \"BoxGymActSpace\" for these attributes.\n",
            "  warnings.warn(f\"The class \\\"MultiDiscreteActSpace\\\" should mainly be used to consider only discrete \"\n"
          ],
          "name": "stderr"
        }
      ]
    },
    {
      "cell_type": "code",
      "metadata": {
        "id": "nlALO4XHHLiW"
      },
      "source": [
        "check_env(gym_env)"
      ],
      "execution_count": 17,
      "outputs": []
    },
    {
      "cell_type": "code",
      "metadata": {
        "id": "NnZ5r_bZHPGy"
      },
      "source": [
        "env = gym_env"
      ],
      "execution_count": 18,
      "outputs": []
    },
    {
      "cell_type": "code",
      "metadata": {
        "id": "Bz6oRdRDHVWc"
      },
      "source": [
        ""
      ],
      "execution_count": null,
      "outputs": []
    }
  ]
}