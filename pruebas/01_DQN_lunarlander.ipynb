{
  "nbformat": 4,
  "nbformat_minor": 0,
  "metadata": {
    "kernelspec": {
      "name": "python3",
      "display_name": "Python 3.6.13 64-bit ('dqn': conda)"
    },
    "language_info": {
      "codemirror_mode": {
        "name": "ipython",
        "version": 3
      },
      "file_extension": ".py",
      "mimetype": "text/x-python",
      "name": "python",
      "nbconvert_exporter": "python",
      "pygments_lexer": "ipython3",
      "version": "3.6.13"
    },
    "colab": {
      "name": "01. DQN_lunarlander.ipynb",
      "provenance": [],
      "collapsed_sections": [],
      "include_colab_link": true
    },
    "interpreter": {
      "hash": "d57bc325b032dc1b09fa5cba57750ac7ee39438ad602bb58d1658c572153d578"
    }
  },
  "cells": [
    {
      "cell_type": "markdown",
      "metadata": {
        "id": "view-in-github",
        "colab_type": "text"
      },
      "source": [
        "<a href=\"https://colab.research.google.com/github/pabloalfaro/drl-grid/blob/main/pruebas/01_DQN_lunarlander.ipynb\" target=\"_parent\"><img src=\"https://colab.research.google.com/assets/colab-badge.svg\" alt=\"Open In Colab\"/></a>"
      ]
    },
    {
      "cell_type": "markdown",
      "metadata": {
        "id": "2kBzRD-X8RJl"
      },
      "source": [
        "# Deep Q-Learning"
      ]
    },
    {
      "cell_type": "markdown",
      "metadata": {
        "id": "M8279R3B8RJo"
      },
      "source": [
        "Comprobar si está ejecutando en Google Colaboratory."
      ]
    },
    {
      "cell_type": "code",
      "metadata": {
        "colab": {
          "base_uri": "https://localhost:8080/"
        },
        "id": "xo1QfuuK8e0H",
        "outputId": "f3da1357-baaf-467f-9eae-64d23fbb7364"
      },
      "source": [
        "!pip install torch torchvision pillow gym requests sklearn matplotlib collections-extended numpy box2d-py gym[Box_2D]"
      ],
      "execution_count": null,
      "outputs": [
        {
          "output_type": "stream",
          "name": "stdout",
          "text": [
            "Requirement already satisfied: torch in /usr/local/lib/python3.7/dist-packages (1.10.0+cu111)\n",
            "Requirement already satisfied: torchvision in /usr/local/lib/python3.7/dist-packages (0.11.1+cu111)\n",
            "Requirement already satisfied: pillow in /usr/local/lib/python3.7/dist-packages (7.1.2)\n",
            "Requirement already satisfied: gym in /usr/local/lib/python3.7/dist-packages (0.17.3)\n",
            "Requirement already satisfied: requests in /usr/local/lib/python3.7/dist-packages (2.23.0)\n",
            "Requirement already satisfied: sklearn in /usr/local/lib/python3.7/dist-packages (0.0)\n",
            "Requirement already satisfied: matplotlib in /usr/local/lib/python3.7/dist-packages (3.2.2)\n",
            "Collecting collections-extended\n",
            "  Downloading collections_extended-2.0.2-py3-none-any.whl (24 kB)\n",
            "Requirement already satisfied: numpy in /usr/local/lib/python3.7/dist-packages (1.21.5)\n",
            "Collecting box2d-py\n",
            "  Downloading box2d_py-2.3.8-cp37-cp37m-manylinux1_x86_64.whl (448 kB)\n",
            "\u001b[K     |████████████████████████████████| 448 kB 4.6 MB/s \n",
            "\u001b[?25hRequirement already satisfied: typing-extensions in /usr/local/lib/python3.7/dist-packages (from torch) (3.10.0.2)\n",
            "Requirement already satisfied: scipy in /usr/local/lib/python3.7/dist-packages (from gym) (1.4.1)\n",
            "Requirement already satisfied: pyglet<=1.5.0,>=1.4.0 in /usr/local/lib/python3.7/dist-packages (from gym) (1.5.0)\n",
            "Requirement already satisfied: cloudpickle<1.7.0,>=1.2.0 in /usr/local/lib/python3.7/dist-packages (from gym) (1.3.0)\n",
            "Requirement already satisfied: future in /usr/local/lib/python3.7/dist-packages (from pyglet<=1.5.0,>=1.4.0->gym) (0.16.0)\n",
            "Requirement already satisfied: idna<3,>=2.5 in /usr/local/lib/python3.7/dist-packages (from requests) (2.10)\n",
            "Requirement already satisfied: certifi>=2017.4.17 in /usr/local/lib/python3.7/dist-packages (from requests) (2021.10.8)\n",
            "Requirement already satisfied: chardet<4,>=3.0.2 in /usr/local/lib/python3.7/dist-packages (from requests) (3.0.4)\n",
            "Requirement already satisfied: urllib3!=1.25.0,!=1.25.1,<1.26,>=1.21.1 in /usr/local/lib/python3.7/dist-packages (from requests) (1.24.3)\n",
            "Requirement already satisfied: scikit-learn in /usr/local/lib/python3.7/dist-packages (from sklearn) (1.0.2)\n",
            "Requirement already satisfied: python-dateutil>=2.1 in /usr/local/lib/python3.7/dist-packages (from matplotlib) (2.8.2)\n",
            "Requirement already satisfied: kiwisolver>=1.0.1 in /usr/local/lib/python3.7/dist-packages (from matplotlib) (1.3.2)\n",
            "Requirement already satisfied: pyparsing!=2.0.4,!=2.1.2,!=2.1.6,>=2.0.1 in /usr/local/lib/python3.7/dist-packages (from matplotlib) (3.0.7)\n",
            "Requirement already satisfied: cycler>=0.10 in /usr/local/lib/python3.7/dist-packages (from matplotlib) (0.11.0)\n",
            "Requirement already satisfied: six>=1.5 in /usr/local/lib/python3.7/dist-packages (from python-dateutil>=2.1->matplotlib) (1.15.0)\n",
            "\u001b[33mWARNING: gym 0.17.3 does not provide the extra 'box_2d'\u001b[0m\n",
            "Requirement already satisfied: joblib>=0.11 in /usr/local/lib/python3.7/dist-packages (from scikit-learn->sklearn) (1.1.0)\n",
            "Requirement already satisfied: threadpoolctl>=2.0.0 in /usr/local/lib/python3.7/dist-packages (from scikit-learn->sklearn) (3.1.0)\n",
            "Installing collected packages: collections-extended, box2d-py\n",
            "Successfully installed box2d-py-2.3.8 collections-extended-2.0.2\n"
          ]
        }
      ]
    },
    {
      "cell_type": "code",
      "metadata": {
        "id": "v7PS7Q8z6-xM",
        "colab": {
          "base_uri": "https://localhost:8080/"
        },
        "outputId": "234d616e-6179-47db-f7e0-d82770114267"
      },
      "source": [
        "import sys\n",
        "IN_COLAB = 'google.colab' in sys.modules\n",
        "\n",
        "if IN_COLAB:\n",
        "    from google.colab import drive\n",
        "    drive.mount('/content/drive')"
      ],
      "execution_count": null,
      "outputs": [
        {
          "output_type": "stream",
          "name": "stdout",
          "text": [
            "Mounted at /content/drive\n"
          ]
        }
      ]
    },
    {
      "cell_type": "code",
      "metadata": {
        "colab": {
          "base_uri": "https://localhost:8080/"
        },
        "id": "1LG9DBOs8RJp",
        "outputId": "8994a107-85ad-47b3-8eb4-5231aa20fe80"
      },
      "source": [
        "import sys\n",
        "IN_COLAB = 'google.colab' in sys.modules\n",
        "\n",
        "if IN_COLAB:\n",
        "    %cd \"/content/drive/MyDrive/dqn\"\n",
        "    render = False\n",
        "else:\n",
        "    render = True"
      ],
      "execution_count": null,
      "outputs": [
        {
          "output_type": "stream",
          "name": "stdout",
          "text": [
            "/content/drive/MyDrive/dqn\n"
          ]
        }
      ]
    },
    {
      "cell_type": "markdown",
      "metadata": {
        "id": "oeInpMsoEeBD"
      },
      "source": [
        "Importación de la librería gym:"
      ]
    },
    {
      "cell_type": "code",
      "metadata": {
        "id": "D_VgVJQq8RJr"
      },
      "source": [
        "import gym"
      ],
      "execution_count": null,
      "outputs": []
    },
    {
      "cell_type": "markdown",
      "metadata": {
        "id": "Z4L8m-6X8RJ0"
      },
      "source": [
        "Implementación de un agente con comportamiento sin entrenar utilizando la clase [`Agent`](dqn_agent.py)."
      ]
    },
    {
      "cell_type": "code",
      "metadata": {
        "id": "d2K9Dq818RJ1"
      },
      "source": [
        "from dqn_agent import Agent\n",
        "\n",
        "agent = Agent(state_size=8, action_size=157, seed=0)"
      ],
      "execution_count": null,
      "outputs": []
    },
    {
      "cell_type": "markdown",
      "metadata": {
        "id": "dvhsh1Mt8RJ1"
      },
      "source": [
        "## Algoritmo\n",
        "A continuación se proporciona una implementación genérica del algoritmo Deep Q-Learning (DQN)."
      ]
    },
    {
      "cell_type": "code",
      "metadata": {
        "id": "i-WgPfUt8RJ2"
      },
      "source": [
        "import gym\n",
        "import random\n",
        "import torch\n",
        "import numpy as np\n",
        "from collections import deque\n",
        "import matplotlib.pyplot as plt\n",
        "from pprint import pprint\n",
        "%matplotlib inline"
      ],
      "execution_count": null,
      "outputs": []
    },
    {
      "cell_type": "code",
      "metadata": {
        "id": "3SjVV0yZ8RJ2"
      },
      "source": [
        "def dqn(env,n_episodes=2000, max_t=1000, eps_start=1.0, eps_end=0.01, eps_decay=0.995):\n",
        "    \"\"\"Deep Q-Learning.\n",
        "    \n",
        "    Params\n",
        "    ======\n",
        "        n_episodes (int): numero maximo de episodios de entrenamiento (n_episodios)\n",
        "        max_t (int): numero maximo de pasos por episodio (n_entrenamiento)\n",
        "        eps_start (float): valor inicial de epsilon\n",
        "        eps_end (float): valor final de epsilon\n",
        "        eps_decay (float): factor de multiplicacion (por episodio) de epsilon\n",
        "    \"\"\"\n",
        "    scores = []                        # puntuaciones de cada episodio\n",
        "    scores_window = deque(maxlen=100)  # puntuaciones de los ultimos 100 episodios\n",
        "    eps = eps_start                    # inicializar epsilon\n",
        "    \n",
        "    for i_episode in range(1, n_episodes+1):\n",
        "        state = env.reset()\n",
        "        #pprint(state) \n",
        "        # El estado es un diccionario y además es demasiado grande para tu red (tiene solo 8 neuronas de entrada según lo que has escrito)\n",
        "        # Esto son 8 datos cualquiera que he cogido del diccionario, esto deberías de cambiarlo por aquellos datos que conformen tu problema realmente,\n",
        "        # es solo para que se lo trague la red y veamos que funciona\n",
        "        state=state['a_ex'][0:8] # --> Esto funciona :)\n",
        "        score = 0\n",
        "        \n",
        "        for t in range(max_t):\n",
        "            \n",
        "            # elegir accion At con politica e-greedy\n",
        "            # print(state)\n",
        "            action = agent.act(state, eps)\n",
        "            print(action)\n",
        "            # El problema está en que debe ser un diccionario\n",
        "            # action = env.action_space.to_gym(action[0])\n",
        "            # action=gym.spaces.Dict()\n",
        "            action_dict = {\n",
        "            \"change_bus\": action[0][0:56],\n",
        "            \"change_line_status\": action[0][56:76],\n",
        "            \"redispatch\": action[0][76:81],\n",
        "            \"set_bus\": action[0][81:137],\n",
        "            \"set_line_status\": action[0][137:157]}\n",
        "            #El siguiente problema que se plantea es que el action devuelto por la red es un único valor.\n",
        "            \n",
        "            # aplicar At y obtener Rt+1, St+1\n",
        "            next_state, reward, done, _ = env.step(action_dict)\n",
        "            \n",
        "            next_state=next_state['a_ex'][0:8]\n",
        "            print(next_state)\n",
        "            # He mirado el action space del entorno ya adaptado a gym y se esperan 5 datos, sospecho que puede venir de como se usa la librería torch\n",
        "            # Por eso falla env.action()\n",
        "            \n",
        "            # almacenar <St, At, Rt+1, St+1>\n",
        "            agent.memory.add(state, action, reward, next_state, done)\n",
        "            \n",
        "            # train & update\n",
        "            agent.step(state, action, reward, next_state, done)\n",
        "            \n",
        "            # avanzar estado\n",
        "            state = next_state\n",
        "            score += reward\n",
        "            \n",
        "            if done:\n",
        "                break \n",
        "\n",
        "        scores_window.append(score)       # guardar ultima puntuacion\n",
        "        scores.append(score)              # guardar ultima puntuacion\n",
        "        eps = max(eps_end, eps_decay*eps) # reducir epsilon\n",
        "        \n",
        "        print('\\rEpisodio {}\\tPuntuacion media (ultimos {:d}): {:.2f}'.format(i_episode, 100, np.mean(scores_window)), end=\"\")\n",
        "        if i_episode % 100 == 0:\n",
        "            print('\\rEpisodio {}\\tPuntuacion media ({:d} anteriores): {:.2f}'.format(i_episode, 100, np.mean(scores_window)))\n",
        "        if np.mean(scores_window)>=200.0:\n",
        "            print('\\nProblema resuelto en {:d} episodios!\\tPuntuacion media (ultimos {:d}): {:.2f}'.format(i_episode-100, 100, np.mean(scores_window)))\n",
        "            torch.save(agent.qnetwork_local.state_dict(), 'checkpoint.pth') # guardar pesos de agente entrenado\n",
        "            break\n",
        "    return scores\n",
        "\n",
        "# scores = dqn()\n",
        "\n",
        "# # plot the scores\n",
        "# fig = plt.figure()\n",
        "# ax = fig.add_subplot(111)\n",
        "# plt.plot(np.arange(len(scores)), scores)\n",
        "# plt.ylabel('Puntuacion')\n",
        "# plt.xlabel('Episodio #')\n",
        "# plt.show()"
      ],
      "execution_count": null,
      "outputs": []
    },
    {
      "cell_type": "markdown",
      "metadata": {
        "id": "kzAWL02w8RJ3"
      },
      "source": [
        "---\n",
        "## Trabajo de grid2op\n",
        "---"
      ]
    },
    {
      "cell_type": "code",
      "metadata": {
        "id": "A8PJNuq8yW8J",
        "colab": {
          "base_uri": "https://localhost:8080/",
          "height": 1000
        },
        "outputId": "7d56221c-5d60-414b-f8ef-2776b1ac3db5"
      },
      "source": [
        " !pip install grid2op[optional]  # Para ejecutar el código en Colab"
      ],
      "execution_count": null,
      "outputs": [
        {
          "output_type": "stream",
          "name": "stdout",
          "text": [
            "Collecting grid2op[optional]\n",
            "  Downloading Grid2Op-1.6.5.tar.gz (11.9 MB)\n",
            "\u001b[K     |████████████████████████████████| 11.9 MB 3.2 MB/s \n",
            "\u001b[?25hRequirement already satisfied: numpy>=1.18.3 in /usr/local/lib/python3.7/dist-packages (from grid2op[optional]) (1.21.5)\n",
            "Requirement already satisfied: scipy>=1.4.1 in /usr/local/lib/python3.7/dist-packages (from grid2op[optional]) (1.4.1)\n",
            "Requirement already satisfied: pandas>=1.0.3 in /usr/local/lib/python3.7/dist-packages (from grid2op[optional]) (1.3.5)\n",
            "Collecting pandapower>=2.2.2\n",
            "  Downloading pandapower-2.8.0.zip (5.9 MB)\n",
            "\u001b[K     |████████████████████████████████| 5.9 MB 36.7 MB/s \n",
            "\u001b[?25hRequirement already satisfied: tqdm>=4.45.0 in /usr/local/lib/python3.7/dist-packages (from grid2op[optional]) (4.62.3)\n",
            "Requirement already satisfied: networkx>=2.4 in /usr/local/lib/python3.7/dist-packages (from grid2op[optional]) (2.6.3)\n",
            "Requirement already satisfied: requests>=2.23.0 in /usr/local/lib/python3.7/dist-packages (from grid2op[optional]) (2.23.0)\n",
            "Requirement already satisfied: nbformat>=5.0.4 in /usr/local/lib/python3.7/dist-packages (from grid2op[optional]) (5.1.3)\n",
            "Collecting jupyter-client>=6.1.0\n",
            "  Downloading jupyter_client-7.1.2-py3-none-any.whl (130 kB)\n",
            "\u001b[K     |████████████████████████████████| 130 kB 50.1 MB/s \n",
            "\u001b[?25hCollecting jyquickhelper>=0.3.128\n",
            "  Downloading jyquickhelper-0.4.220-py3-none-any.whl (1.5 MB)\n",
            "\u001b[K     |████████████████████████████████| 1.5 MB 20.5 MB/s \n",
            "\u001b[?25hRequirement already satisfied: numba>=0.48.0 in /usr/local/lib/python3.7/dist-packages (from grid2op[optional]) (0.51.2)\n",
            "Requirement already satisfied: matplotlib>=3.2.1 in /usr/local/lib/python3.7/dist-packages (from grid2op[optional]) (3.2.2)\n",
            "Requirement already satisfied: plotly>=4.5.4 in /usr/local/lib/python3.7/dist-packages (from grid2op[optional]) (5.5.0)\n",
            "Requirement already satisfied: seaborn>=0.10.0 in /usr/local/lib/python3.7/dist-packages (from grid2op[optional]) (0.11.2)\n",
            "Collecting imageio>=2.8.0\n",
            "  Downloading imageio-2.16.0-py3-none-any.whl (3.3 MB)\n",
            "\u001b[K     |████████████████████████████████| 3.3 MB 43.6 MB/s \n",
            "\u001b[?25hCollecting pygifsicle>=1.0.1\n",
            "  Downloading pygifsicle-1.0.5.tar.gz (5.2 kB)\n",
            "Collecting psutil>=5.7.0\n",
            "  Downloading psutil-5.9.0-cp37-cp37m-manylinux_2_12_x86_64.manylinux2010_x86_64.manylinux_2_17_x86_64.manylinux2014_x86_64.whl (280 kB)\n",
            "\u001b[K     |████████████████████████████████| 280 kB 56.0 MB/s \n",
            "\u001b[?25hRequirement already satisfied: gym>=0.17.2 in /usr/local/lib/python3.7/dist-packages (from grid2op[optional]) (0.17.3)\n",
            "Requirement already satisfied: cloudpickle<1.7.0,>=1.2.0 in /usr/local/lib/python3.7/dist-packages (from gym>=0.17.2->grid2op[optional]) (1.3.0)\n",
            "Requirement already satisfied: pyglet<=1.5.0,>=1.4.0 in /usr/local/lib/python3.7/dist-packages (from gym>=0.17.2->grid2op[optional]) (1.5.0)\n",
            "Collecting pillow>=8.3.2\n",
            "  Downloading Pillow-9.0.1-cp37-cp37m-manylinux_2_17_x86_64.manylinux2014_x86_64.whl (4.3 MB)\n",
            "\u001b[K     |████████████████████████████████| 4.3 MB 42.9 MB/s \n",
            "\u001b[?25hRequirement already satisfied: entrypoints in /usr/local/lib/python3.7/dist-packages (from jupyter-client>=6.1.0->grid2op[optional]) (0.4)\n",
            "Requirement already satisfied: pyzmq>=13 in /usr/local/lib/python3.7/dist-packages (from jupyter-client>=6.1.0->grid2op[optional]) (22.3.0)\n",
            "Requirement already satisfied: nest-asyncio>=1.5 in /usr/local/lib/python3.7/dist-packages (from jupyter-client>=6.1.0->grid2op[optional]) (1.5.4)\n",
            "Requirement already satisfied: tornado>=4.1 in /usr/local/lib/python3.7/dist-packages (from jupyter-client>=6.1.0->grid2op[optional]) (5.1.1)\n",
            "Requirement already satisfied: jupyter-core>=4.6.0 in /usr/local/lib/python3.7/dist-packages (from jupyter-client>=6.1.0->grid2op[optional]) (4.9.1)\n",
            "Requirement already satisfied: traitlets in /usr/local/lib/python3.7/dist-packages (from jupyter-client>=6.1.0->grid2op[optional]) (5.1.1)\n",
            "Requirement already satisfied: python-dateutil>=2.1 in /usr/local/lib/python3.7/dist-packages (from jupyter-client>=6.1.0->grid2op[optional]) (2.8.2)\n",
            "Requirement already satisfied: ipython in /usr/local/lib/python3.7/dist-packages (from jyquickhelper>=0.3.128->grid2op[optional]) (5.5.0)\n",
            "Requirement already satisfied: jupyter in /usr/local/lib/python3.7/dist-packages (from jyquickhelper>=0.3.128->grid2op[optional]) (1.0.0)\n",
            "Requirement already satisfied: notebook in /usr/local/lib/python3.7/dist-packages (from jyquickhelper>=0.3.128->grid2op[optional]) (5.3.1)\n",
            "Requirement already satisfied: cycler>=0.10 in /usr/local/lib/python3.7/dist-packages (from matplotlib>=3.2.1->grid2op[optional]) (0.11.0)\n",
            "Requirement already satisfied: kiwisolver>=1.0.1 in /usr/local/lib/python3.7/dist-packages (from matplotlib>=3.2.1->grid2op[optional]) (1.3.2)\n",
            "Requirement already satisfied: pyparsing!=2.0.4,!=2.1.2,!=2.1.6,>=2.0.1 in /usr/local/lib/python3.7/dist-packages (from matplotlib>=3.2.1->grid2op[optional]) (3.0.7)\n",
            "Requirement already satisfied: jsonschema!=2.5.0,>=2.4 in /usr/local/lib/python3.7/dist-packages (from nbformat>=5.0.4->grid2op[optional]) (4.3.3)\n",
            "Requirement already satisfied: ipython-genutils in /usr/local/lib/python3.7/dist-packages (from nbformat>=5.0.4->grid2op[optional]) (0.2.0)\n",
            "Requirement already satisfied: pyrsistent!=0.17.0,!=0.17.1,!=0.17.2,>=0.14.0 in /usr/local/lib/python3.7/dist-packages (from jsonschema!=2.5.0,>=2.4->nbformat>=5.0.4->grid2op[optional]) (0.18.1)\n",
            "Requirement already satisfied: attrs>=17.4.0 in /usr/local/lib/python3.7/dist-packages (from jsonschema!=2.5.0,>=2.4->nbformat>=5.0.4->grid2op[optional]) (21.4.0)\n",
            "Requirement already satisfied: importlib-resources>=1.4.0 in /usr/local/lib/python3.7/dist-packages (from jsonschema!=2.5.0,>=2.4->nbformat>=5.0.4->grid2op[optional]) (5.4.0)\n",
            "Requirement already satisfied: typing-extensions in /usr/local/lib/python3.7/dist-packages (from jsonschema!=2.5.0,>=2.4->nbformat>=5.0.4->grid2op[optional]) (3.10.0.2)\n",
            "Requirement already satisfied: importlib-metadata in /usr/local/lib/python3.7/dist-packages (from jsonschema!=2.5.0,>=2.4->nbformat>=5.0.4->grid2op[optional]) (4.11.0)\n",
            "Requirement already satisfied: zipp>=3.1.0 in /usr/local/lib/python3.7/dist-packages (from importlib-resources>=1.4.0->jsonschema!=2.5.0,>=2.4->nbformat>=5.0.4->grid2op[optional]) (3.7.0)\n",
            "Requirement already satisfied: llvmlite<0.35,>=0.34.0.dev0 in /usr/local/lib/python3.7/dist-packages (from numba>=0.48.0->grid2op[optional]) (0.34.0)\n",
            "Requirement already satisfied: setuptools in /usr/local/lib/python3.7/dist-packages (from numba>=0.48.0->grid2op[optional]) (57.4.0)\n",
            "Requirement already satisfied: packaging in /usr/local/lib/python3.7/dist-packages (from pandapower>=2.2.2->grid2op[optional]) (21.3)\n",
            "Requirement already satisfied: pytz>=2017.3 in /usr/local/lib/python3.7/dist-packages (from pandas>=1.0.3->grid2op[optional]) (2018.9)\n",
            "Requirement already satisfied: tenacity>=6.2.0 in /usr/local/lib/python3.7/dist-packages (from plotly>=4.5.4->grid2op[optional]) (8.0.1)\n",
            "Requirement already satisfied: six in /usr/local/lib/python3.7/dist-packages (from plotly>=4.5.4->grid2op[optional]) (1.15.0)\n",
            "Requirement already satisfied: future in /usr/local/lib/python3.7/dist-packages (from pyglet<=1.5.0,>=1.4.0->gym>=0.17.2->grid2op[optional]) (0.16.0)\n",
            "Requirement already satisfied: idna<3,>=2.5 in /usr/local/lib/python3.7/dist-packages (from requests>=2.23.0->grid2op[optional]) (2.10)\n",
            "Requirement already satisfied: urllib3!=1.25.0,!=1.25.1,<1.26,>=1.21.1 in /usr/local/lib/python3.7/dist-packages (from requests>=2.23.0->grid2op[optional]) (1.24.3)\n",
            "Requirement already satisfied: chardet<4,>=3.0.2 in /usr/local/lib/python3.7/dist-packages (from requests>=2.23.0->grid2op[optional]) (3.0.4)\n",
            "Requirement already satisfied: certifi>=2017.4.17 in /usr/local/lib/python3.7/dist-packages (from requests>=2.23.0->grid2op[optional]) (2021.10.8)\n",
            "Requirement already satisfied: prompt-toolkit<2.0.0,>=1.0.4 in /usr/local/lib/python3.7/dist-packages (from ipython->jyquickhelper>=0.3.128->grid2op[optional]) (1.0.18)\n",
            "Requirement already satisfied: pygments in /usr/local/lib/python3.7/dist-packages (from ipython->jyquickhelper>=0.3.128->grid2op[optional]) (2.6.1)\n",
            "Requirement already satisfied: simplegeneric>0.8 in /usr/local/lib/python3.7/dist-packages (from ipython->jyquickhelper>=0.3.128->grid2op[optional]) (0.8.1)\n",
            "Requirement already satisfied: pexpect in /usr/local/lib/python3.7/dist-packages (from ipython->jyquickhelper>=0.3.128->grid2op[optional]) (4.8.0)\n",
            "Requirement already satisfied: pickleshare in /usr/local/lib/python3.7/dist-packages (from ipython->jyquickhelper>=0.3.128->grid2op[optional]) (0.7.5)\n",
            "Requirement already satisfied: decorator in /usr/local/lib/python3.7/dist-packages (from ipython->jyquickhelper>=0.3.128->grid2op[optional]) (4.4.2)\n",
            "Requirement already satisfied: wcwidth in /usr/local/lib/python3.7/dist-packages (from prompt-toolkit<2.0.0,>=1.0.4->ipython->jyquickhelper>=0.3.128->grid2op[optional]) (0.2.5)\n",
            "Requirement already satisfied: jupyter-console in /usr/local/lib/python3.7/dist-packages (from jupyter->jyquickhelper>=0.3.128->grid2op[optional]) (5.2.0)\n",
            "Requirement already satisfied: ipykernel in /usr/local/lib/python3.7/dist-packages (from jupyter->jyquickhelper>=0.3.128->grid2op[optional]) (4.10.1)\n",
            "Requirement already satisfied: nbconvert in /usr/local/lib/python3.7/dist-packages (from jupyter->jyquickhelper>=0.3.128->grid2op[optional]) (5.6.1)\n",
            "Requirement already satisfied: qtconsole in /usr/local/lib/python3.7/dist-packages (from jupyter->jyquickhelper>=0.3.128->grid2op[optional]) (5.2.2)\n",
            "Requirement already satisfied: ipywidgets in /usr/local/lib/python3.7/dist-packages (from jupyter->jyquickhelper>=0.3.128->grid2op[optional]) (7.6.5)\n",
            "Requirement already satisfied: jupyterlab-widgets>=1.0.0 in /usr/local/lib/python3.7/dist-packages (from ipywidgets->jupyter->jyquickhelper>=0.3.128->grid2op[optional]) (1.0.2)\n",
            "Requirement already satisfied: widgetsnbextension~=3.5.0 in /usr/local/lib/python3.7/dist-packages (from ipywidgets->jupyter->jyquickhelper>=0.3.128->grid2op[optional]) (3.5.2)\n",
            "Requirement already satisfied: terminado>=0.8.1 in /usr/local/lib/python3.7/dist-packages (from notebook->jyquickhelper>=0.3.128->grid2op[optional]) (0.13.1)\n",
            "Requirement already satisfied: jinja2 in /usr/local/lib/python3.7/dist-packages (from notebook->jyquickhelper>=0.3.128->grid2op[optional]) (2.11.3)\n",
            "Requirement already satisfied: Send2Trash in /usr/local/lib/python3.7/dist-packages (from notebook->jyquickhelper>=0.3.128->grid2op[optional]) (1.8.0)\n",
            "Requirement already satisfied: ptyprocess in /usr/local/lib/python3.7/dist-packages (from terminado>=0.8.1->notebook->jyquickhelper>=0.3.128->grid2op[optional]) (0.7.0)\n",
            "Requirement already satisfied: MarkupSafe>=0.23 in /usr/local/lib/python3.7/dist-packages (from jinja2->notebook->jyquickhelper>=0.3.128->grid2op[optional]) (2.0.1)\n",
            "Requirement already satisfied: bleach in /usr/local/lib/python3.7/dist-packages (from nbconvert->jupyter->jyquickhelper>=0.3.128->grid2op[optional]) (4.1.0)\n",
            "Requirement already satisfied: defusedxml in /usr/local/lib/python3.7/dist-packages (from nbconvert->jupyter->jyquickhelper>=0.3.128->grid2op[optional]) (0.7.1)\n",
            "Requirement already satisfied: pandocfilters>=1.4.1 in /usr/local/lib/python3.7/dist-packages (from nbconvert->jupyter->jyquickhelper>=0.3.128->grid2op[optional]) (1.5.0)\n",
            "Requirement already satisfied: testpath in /usr/local/lib/python3.7/dist-packages (from nbconvert->jupyter->jyquickhelper>=0.3.128->grid2op[optional]) (0.5.0)\n",
            "Requirement already satisfied: mistune<2,>=0.8.1 in /usr/local/lib/python3.7/dist-packages (from nbconvert->jupyter->jyquickhelper>=0.3.128->grid2op[optional]) (0.8.4)\n",
            "Requirement already satisfied: webencodings in /usr/local/lib/python3.7/dist-packages (from bleach->nbconvert->jupyter->jyquickhelper>=0.3.128->grid2op[optional]) (0.5.1)\n",
            "Requirement already satisfied: qtpy in /usr/local/lib/python3.7/dist-packages (from qtconsole->jupyter->jyquickhelper>=0.3.128->grid2op[optional]) (2.0.1)\n",
            "Building wheels for collected packages: grid2op, pandapower, pygifsicle\n",
            "  Building wheel for grid2op (setup.py) ... \u001b[?25l\u001b[?25hdone\n",
            "  Created wheel for grid2op: filename=Grid2Op-1.6.5-py3-none-any.whl size=12206644 sha256=a7f0d68335559e9cd7c140a93480224373406b5b32cce5149143b17cf38a1ae4\n",
            "  Stored in directory: /root/.cache/pip/wheels/4b/0a/10/4e8fee3463d2ea5ca4d457638d28f8d4b55fbd22d6e5d99175\n",
            "  Building wheel for pandapower (setup.py) ... \u001b[?25l\u001b[?25hdone\n",
            "  Created wheel for pandapower: filename=pandapower-2.8.0-py3-none-any.whl size=5881019 sha256=f3d1f0b68dcbe1b08b4dd37cdf7578cafc17fe01ba4dada2cf5dbfa758a7ac3a\n",
            "  Stored in directory: /root/.cache/pip/wheels/8a/ce/91/cb5881926915c6c131434bde7bb43a9f9e1c7a54951ebd3dee\n",
            "  Building wheel for pygifsicle (setup.py) ... \u001b[?25l\u001b[?25hdone\n",
            "  Created wheel for pygifsicle: filename=pygifsicle-1.0.5-py3-none-any.whl size=4605 sha256=fd8f4d484d038582195a99f82cf93299d2b786648762b74911e224f91ccc4f8b\n",
            "  Stored in directory: /root/.cache/pip/wheels/80/a3/e9/b215e70a62741278d2e4f41403e486787c32a082bdb33551b4\n",
            "Successfully built grid2op pandapower pygifsicle\n",
            "Installing collected packages: jupyter-client, pillow, pandapower, pygifsicle, psutil, jyquickhelper, imageio, grid2op\n",
            "  Attempting uninstall: jupyter-client\n",
            "    Found existing installation: jupyter-client 5.3.5\n",
            "    Uninstalling jupyter-client-5.3.5:\n",
            "      Successfully uninstalled jupyter-client-5.3.5\n",
            "  Attempting uninstall: pillow\n",
            "    Found existing installation: Pillow 7.1.2\n",
            "    Uninstalling Pillow-7.1.2:\n",
            "      Successfully uninstalled Pillow-7.1.2\n",
            "  Attempting uninstall: psutil\n",
            "    Found existing installation: psutil 5.4.8\n",
            "    Uninstalling psutil-5.4.8:\n",
            "      Successfully uninstalled psutil-5.4.8\n",
            "  Attempting uninstall: imageio\n",
            "    Found existing installation: imageio 2.4.1\n",
            "    Uninstalling imageio-2.4.1:\n",
            "      Successfully uninstalled imageio-2.4.1\n",
            "\u001b[31mERROR: pip's dependency resolver does not currently take into account all the packages that are installed. This behaviour is the source of the following dependency conflicts.\n",
            "albumentations 0.1.12 requires imgaug<0.2.7,>=0.2.5, but you have imgaug 0.2.9 which is incompatible.\u001b[0m\n",
            "Successfully installed grid2op-1.6.5 imageio-2.16.0 jupyter-client-7.1.2 jyquickhelper-0.4.220 pandapower-2.8.0 pillow-9.0.1 psutil-5.9.0 pygifsicle-1.0.5\n"
          ]
        },
        {
          "output_type": "display_data",
          "data": {
            "application/vnd.colab-display-data+json": {
              "pip_warning": {
                "packages": [
                  "PIL",
                  "jupyter_client",
                  "psutil"
                ]
              }
            }
          },
          "metadata": {}
        }
      ]
    },
    {
      "cell_type": "code",
      "metadata": {
        "id": "_NBITdwlCWO9",
        "colab": {
          "base_uri": "https://localhost:8080/"
        },
        "outputId": "7a1eeccc-547c-4aef-e0e7-4f0bf1d89b37"
      },
      "source": [
        " !pip install jyquickhelper # Para ejecutar el código en Colab"
      ],
      "execution_count": null,
      "outputs": [
        {
          "output_type": "stream",
          "name": "stdout",
          "text": [
            "Requirement already satisfied: jyquickhelper in /usr/local/lib/python3.7/dist-packages (0.4.220)\n",
            "Requirement already satisfied: jupyter in /usr/local/lib/python3.7/dist-packages (from jyquickhelper) (1.0.0)\n",
            "Requirement already satisfied: notebook in /usr/local/lib/python3.7/dist-packages (from jyquickhelper) (5.3.1)\n",
            "Requirement already satisfied: ipython in /usr/local/lib/python3.7/dist-packages (from jyquickhelper) (5.5.0)\n",
            "Requirement already satisfied: pexpect in /usr/local/lib/python3.7/dist-packages (from ipython->jyquickhelper) (4.8.0)\n",
            "Requirement already satisfied: pygments in /usr/local/lib/python3.7/dist-packages (from ipython->jyquickhelper) (2.6.1)\n",
            "Requirement already satisfied: pickleshare in /usr/local/lib/python3.7/dist-packages (from ipython->jyquickhelper) (0.7.5)\n",
            "Requirement already satisfied: simplegeneric>0.8 in /usr/local/lib/python3.7/dist-packages (from ipython->jyquickhelper) (0.8.1)\n",
            "Requirement already satisfied: decorator in /usr/local/lib/python3.7/dist-packages (from ipython->jyquickhelper) (4.4.2)\n",
            "Requirement already satisfied: prompt-toolkit<2.0.0,>=1.0.4 in /usr/local/lib/python3.7/dist-packages (from ipython->jyquickhelper) (1.0.18)\n",
            "Requirement already satisfied: traitlets>=4.2 in /usr/local/lib/python3.7/dist-packages (from ipython->jyquickhelper) (5.1.1)\n",
            "Requirement already satisfied: setuptools>=18.5 in /usr/local/lib/python3.7/dist-packages (from ipython->jyquickhelper) (57.4.0)\n",
            "Requirement already satisfied: six>=1.9.0 in /usr/local/lib/python3.7/dist-packages (from prompt-toolkit<2.0.0,>=1.0.4->ipython->jyquickhelper) (1.15.0)\n",
            "Requirement already satisfied: wcwidth in /usr/local/lib/python3.7/dist-packages (from prompt-toolkit<2.0.0,>=1.0.4->ipython->jyquickhelper) (0.2.5)\n",
            "Requirement already satisfied: jupyter-console in /usr/local/lib/python3.7/dist-packages (from jupyter->jyquickhelper) (5.2.0)\n",
            "Requirement already satisfied: qtconsole in /usr/local/lib/python3.7/dist-packages (from jupyter->jyquickhelper) (5.2.2)\n",
            "Requirement already satisfied: ipywidgets in /usr/local/lib/python3.7/dist-packages (from jupyter->jyquickhelper) (7.6.5)\n",
            "Requirement already satisfied: nbconvert in /usr/local/lib/python3.7/dist-packages (from jupyter->jyquickhelper) (5.6.1)\n",
            "Requirement already satisfied: ipykernel in /usr/local/lib/python3.7/dist-packages (from jupyter->jyquickhelper) (4.10.1)\n",
            "Requirement already satisfied: tornado>=4.0 in /usr/local/lib/python3.7/dist-packages (from ipykernel->jupyter->jyquickhelper) (5.1.1)\n",
            "Requirement already satisfied: jupyter-client in /usr/local/lib/python3.7/dist-packages (from ipykernel->jupyter->jyquickhelper) (7.1.2)\n",
            "Requirement already satisfied: nbformat>=4.2.0 in /usr/local/lib/python3.7/dist-packages (from ipywidgets->jupyter->jyquickhelper) (5.1.3)\n",
            "Requirement already satisfied: jupyterlab-widgets>=1.0.0 in /usr/local/lib/python3.7/dist-packages (from ipywidgets->jupyter->jyquickhelper) (1.0.2)\n",
            "Requirement already satisfied: widgetsnbextension~=3.5.0 in /usr/local/lib/python3.7/dist-packages (from ipywidgets->jupyter->jyquickhelper) (3.5.2)\n",
            "Requirement already satisfied: ipython-genutils~=0.2.0 in /usr/local/lib/python3.7/dist-packages (from ipywidgets->jupyter->jyquickhelper) (0.2.0)\n",
            "Requirement already satisfied: jsonschema!=2.5.0,>=2.4 in /usr/local/lib/python3.7/dist-packages (from nbformat>=4.2.0->ipywidgets->jupyter->jyquickhelper) (4.3.3)\n",
            "Requirement already satisfied: jupyter-core in /usr/local/lib/python3.7/dist-packages (from nbformat>=4.2.0->ipywidgets->jupyter->jyquickhelper) (4.9.1)\n",
            "Requirement already satisfied: attrs>=17.4.0 in /usr/local/lib/python3.7/dist-packages (from jsonschema!=2.5.0,>=2.4->nbformat>=4.2.0->ipywidgets->jupyter->jyquickhelper) (21.4.0)\n",
            "Requirement already satisfied: typing-extensions in /usr/local/lib/python3.7/dist-packages (from jsonschema!=2.5.0,>=2.4->nbformat>=4.2.0->ipywidgets->jupyter->jyquickhelper) (3.10.0.2)\n",
            "Requirement already satisfied: importlib-resources>=1.4.0 in /usr/local/lib/python3.7/dist-packages (from jsonschema!=2.5.0,>=2.4->nbformat>=4.2.0->ipywidgets->jupyter->jyquickhelper) (5.4.0)\n",
            "Requirement already satisfied: importlib-metadata in /usr/local/lib/python3.7/dist-packages (from jsonschema!=2.5.0,>=2.4->nbformat>=4.2.0->ipywidgets->jupyter->jyquickhelper) (4.11.0)\n",
            "Requirement already satisfied: pyrsistent!=0.17.0,!=0.17.1,!=0.17.2,>=0.14.0 in /usr/local/lib/python3.7/dist-packages (from jsonschema!=2.5.0,>=2.4->nbformat>=4.2.0->ipywidgets->jupyter->jyquickhelper) (0.18.1)\n",
            "Requirement already satisfied: zipp>=3.1.0 in /usr/local/lib/python3.7/dist-packages (from importlib-resources>=1.4.0->jsonschema!=2.5.0,>=2.4->nbformat>=4.2.0->ipywidgets->jupyter->jyquickhelper) (3.7.0)\n",
            "Requirement already satisfied: jinja2 in /usr/local/lib/python3.7/dist-packages (from notebook->jyquickhelper) (2.11.3)\n",
            "Requirement already satisfied: Send2Trash in /usr/local/lib/python3.7/dist-packages (from notebook->jyquickhelper) (1.8.0)\n",
            "Requirement already satisfied: terminado>=0.8.1 in /usr/local/lib/python3.7/dist-packages (from notebook->jyquickhelper) (0.13.1)\n",
            "Requirement already satisfied: nest-asyncio>=1.5 in /usr/local/lib/python3.7/dist-packages (from jupyter-client->ipykernel->jupyter->jyquickhelper) (1.5.4)\n",
            "Requirement already satisfied: python-dateutil>=2.1 in /usr/local/lib/python3.7/dist-packages (from jupyter-client->ipykernel->jupyter->jyquickhelper) (2.8.2)\n",
            "Requirement already satisfied: pyzmq>=13 in /usr/local/lib/python3.7/dist-packages (from jupyter-client->ipykernel->jupyter->jyquickhelper) (22.3.0)\n",
            "Requirement already satisfied: entrypoints in /usr/local/lib/python3.7/dist-packages (from jupyter-client->ipykernel->jupyter->jyquickhelper) (0.4)\n",
            "Requirement already satisfied: ptyprocess in /usr/local/lib/python3.7/dist-packages (from terminado>=0.8.1->notebook->jyquickhelper) (0.7.0)\n",
            "Requirement already satisfied: MarkupSafe>=0.23 in /usr/local/lib/python3.7/dist-packages (from jinja2->notebook->jyquickhelper) (2.0.1)\n",
            "Requirement already satisfied: pandocfilters>=1.4.1 in /usr/local/lib/python3.7/dist-packages (from nbconvert->jupyter->jyquickhelper) (1.5.0)\n",
            "Requirement already satisfied: mistune<2,>=0.8.1 in /usr/local/lib/python3.7/dist-packages (from nbconvert->jupyter->jyquickhelper) (0.8.4)\n",
            "Requirement already satisfied: defusedxml in /usr/local/lib/python3.7/dist-packages (from nbconvert->jupyter->jyquickhelper) (0.7.1)\n",
            "Requirement already satisfied: bleach in /usr/local/lib/python3.7/dist-packages (from nbconvert->jupyter->jyquickhelper) (4.1.0)\n",
            "Requirement already satisfied: testpath in /usr/local/lib/python3.7/dist-packages (from nbconvert->jupyter->jyquickhelper) (0.5.0)\n",
            "Requirement already satisfied: packaging in /usr/local/lib/python3.7/dist-packages (from bleach->nbconvert->jupyter->jyquickhelper) (21.3)\n",
            "Requirement already satisfied: webencodings in /usr/local/lib/python3.7/dist-packages (from bleach->nbconvert->jupyter->jyquickhelper) (0.5.1)\n",
            "Requirement already satisfied: pyparsing!=3.0.5,>=2.0.2 in /usr/local/lib/python3.7/dist-packages (from packaging->bleach->nbconvert->jupyter->jyquickhelper) (3.0.7)\n",
            "Requirement already satisfied: qtpy in /usr/local/lib/python3.7/dist-packages (from qtconsole->jupyter->jyquickhelper) (2.0.1)\n"
          ]
        }
      ]
    },
    {
      "cell_type": "code",
      "metadata": {
        "id": "kOtfvQPuCZNv"
      },
      "source": [
        "import os\n",
        "import sys\n",
        "import grid2op"
      ],
      "execution_count": null,
      "outputs": []
    },
    {
      "cell_type": "code",
      "metadata": {
        "colab": {
          "base_uri": "https://localhost:8080/"
        },
        "id": "InNRtFm1CbQn",
        "outputId": "a06ddd2a-8ddf-482f-d51a-9abca64a7a15"
      },
      "source": [
        "# import the usefull classes\n",
        "from pprint import pprint\n",
        "import numpy as np\n",
        "import shutil\n",
        "from tqdm.notebook import tqdm  # for easy progress bar\n",
        "\n",
        "from grid2op import make\n",
        "from grid2op.Agent import DoNothingAgent\n",
        "\n",
        "from grid2op.Reward import GameplayReward, L2RPNReward\n",
        "from grid2op.gym_compat import GymObservationSpace\n",
        "\n",
        "\n",
        "max_iter = 50 # Se consideran 50 iteraciones para que sea más rápido\n",
        "train_iter = 50\n",
        "max_eval_step = 20\n",
        "env_name = \"rte_case14_redisp\"\n",
        "env = make(env_name, test=False, reward_class=L2RPNReward)\n",
        "env.seed(0)  # Una semilla para que los agentes sean reproducibles\n",
        "#pprint(env.observation_space.__dict__)\n",
        "print(len(env.observation_space.__dict__['shape']))\n",
        "print(len(env.observation_space.__dict__['dtype']))\n",
        "print(len(env.observation_space.__dict__['attr_list_vect']))"
      ],
      "execution_count": null,
      "outputs": [
        {
          "output_type": "stream",
          "name": "stderr",
          "text": [
            "/usr/local/lib/python3.7/dist-packages/grid2op/MakeEnv/Make.py:357: UserWarning: It is the first time you use the environment \"rte_case14_redisp\".\n",
            "We will attempt to download this environment from remote\n",
            "  warnings.warn(_MAKE_FIRST_TIME_WARN.format(dataset_name))\n"
          ]
        },
        {
          "output_type": "stream",
          "name": "stdout",
          "text": [
            "downloading the training data, this may take a while.\n"
          ]
        },
        {
          "output_type": "stream",
          "name": "stderr",
          "text": [
            "rte_case14_redisp.tar.bz2: 292MB [00:23, 12.4MB/s]                           \n"
          ]
        },
        {
          "output_type": "stream",
          "name": "stdout",
          "text": [
            "Extract the tar archive in \"/root/data_grid2op\"\n",
            "\t Successfully updated file \"grid.json\" for environment \"rte_case14_redisp\"\n",
            "You may now use the environment \"rte_case14_redisp\" with the available data by invoking:\n",
            "\tenv = grid2op.make(\"rte_case14_redisp\")\n",
            "48\n",
            "48\n",
            "48\n"
          ]
        }
      ]
    },
    {
      "cell_type": "code",
      "metadata": {
        "id": "Hc8s0r_aV2_1"
      },
      "source": [
        "from grid2op.Reward import L2RPNReward\n",
        "\n",
        "from grid2op.gym_compat import GymEnv, MultiDiscreteActSpace"
      ],
      "execution_count": null,
      "outputs": []
    },
    {
      "cell_type": "code",
      "metadata": {
        "colab": {
          "base_uri": "https://localhost:8080/",
          "height": 373
        },
        "id": "ho5blW7VCd_w",
        "outputId": "59fdd696-4261-4f58-8dca-93c3c80fcec0"
      },
      "source": [
        "# Convertimos el entorno a uno del estándar gym con un espacio de observaciones y acciones entendible.\n",
        "gym_env = GymEnv(env)\n",
        "\n",
        "# Por si quereis sacar los espacios por pantalla:\n",
        "# print(gym_env.observation_space)\n",
        "# print(gym_env.action_space)\n",
        "scores = dqn(env=gym_env)\n",
        "\n",
        "# plot the scores\n",
        "fig = plt.figure()\n",
        "ax = fig.add_subplot(111)\n",
        "plt.plot(np.arange(len(scores)), scores)\n",
        "plt.ylabel('Puntuacion')\n",
        "plt.xlabel('Episodio #')\n",
        "plt.show()"
      ],
      "execution_count": null,
      "outputs": [
        {
          "output_type": "stream",
          "name": "stdout",
          "text": [
            "130\n"
          ]
        },
        {
          "output_type": "error",
          "ename": "IndexError",
          "evalue": "ignored",
          "traceback": [
            "\u001b[0;31m---------------------------------------------------------------------------\u001b[0m",
            "\u001b[0;31mIndexError\u001b[0m                                Traceback (most recent call last)",
            "\u001b[0;32m<ipython-input-14-8485d0dc1ad1>\u001b[0m in \u001b[0;36m<module>\u001b[0;34m()\u001b[0m\n\u001b[1;32m      5\u001b[0m \u001b[0;31m# print(gym_env.observation_space)\u001b[0m\u001b[0;34m\u001b[0m\u001b[0;34m\u001b[0m\u001b[0;34m\u001b[0m\u001b[0m\n\u001b[1;32m      6\u001b[0m \u001b[0;31m# print(gym_env.action_space)\u001b[0m\u001b[0;34m\u001b[0m\u001b[0;34m\u001b[0m\u001b[0;34m\u001b[0m\u001b[0m\n\u001b[0;32m----> 7\u001b[0;31m \u001b[0mscores\u001b[0m \u001b[0;34m=\u001b[0m \u001b[0mdqn\u001b[0m\u001b[0;34m(\u001b[0m\u001b[0menv\u001b[0m\u001b[0;34m=\u001b[0m\u001b[0mgym_env\u001b[0m\u001b[0;34m)\u001b[0m\u001b[0;34m\u001b[0m\u001b[0;34m\u001b[0m\u001b[0m\n\u001b[0m\u001b[1;32m      8\u001b[0m \u001b[0;34m\u001b[0m\u001b[0m\n\u001b[1;32m      9\u001b[0m \u001b[0;31m# plot the scores\u001b[0m\u001b[0;34m\u001b[0m\u001b[0;34m\u001b[0m\u001b[0;34m\u001b[0m\u001b[0m\n",
            "\u001b[0;32m<ipython-input-7-292da9904c8a>\u001b[0m in \u001b[0;36mdqn\u001b[0;34m(env, n_episodes, max_t, eps_start, eps_end, eps_decay)\u001b[0m\n\u001b[1;32m     33\u001b[0m             \u001b[0;31m# action=gym.spaces.Dict()\u001b[0m\u001b[0;34m\u001b[0m\u001b[0;34m\u001b[0m\u001b[0;34m\u001b[0m\u001b[0m\n\u001b[1;32m     34\u001b[0m             action_dict = {\n\u001b[0;32m---> 35\u001b[0;31m             \u001b[0;34m\"change_bus\"\u001b[0m\u001b[0;34m:\u001b[0m \u001b[0maction\u001b[0m\u001b[0;34m[\u001b[0m\u001b[0;36m0\u001b[0m\u001b[0;34m]\u001b[0m\u001b[0;34m[\u001b[0m\u001b[0;36m0\u001b[0m\u001b[0;34m:\u001b[0m\u001b[0;36m56\u001b[0m\u001b[0;34m]\u001b[0m\u001b[0;34m,\u001b[0m\u001b[0;34m\u001b[0m\u001b[0;34m\u001b[0m\u001b[0m\n\u001b[0m\u001b[1;32m     36\u001b[0m             \u001b[0;34m\"change_line_status\"\u001b[0m\u001b[0;34m:\u001b[0m \u001b[0maction\u001b[0m\u001b[0;34m[\u001b[0m\u001b[0;36m0\u001b[0m\u001b[0;34m]\u001b[0m\u001b[0;34m[\u001b[0m\u001b[0;36m56\u001b[0m\u001b[0;34m:\u001b[0m\u001b[0;36m76\u001b[0m\u001b[0;34m]\u001b[0m\u001b[0;34m,\u001b[0m\u001b[0;34m\u001b[0m\u001b[0;34m\u001b[0m\u001b[0m\n\u001b[1;32m     37\u001b[0m             \u001b[0;34m\"redispatch\"\u001b[0m\u001b[0;34m:\u001b[0m \u001b[0maction\u001b[0m\u001b[0;34m[\u001b[0m\u001b[0;36m0\u001b[0m\u001b[0;34m]\u001b[0m\u001b[0;34m[\u001b[0m\u001b[0;36m76\u001b[0m\u001b[0;34m:\u001b[0m\u001b[0;36m81\u001b[0m\u001b[0;34m]\u001b[0m\u001b[0;34m,\u001b[0m\u001b[0;34m\u001b[0m\u001b[0;34m\u001b[0m\u001b[0m\n",
            "\u001b[0;31mIndexError\u001b[0m: invalid index to scalar variable."
          ]
        }
      ]
    },
    {
      "cell_type": "code",
      "metadata": {
        "id": "6ADr1Y27HA_f"
      },
      "source": [
        "!pip install git+https://github.com/DLR-RM/stable-baselines3"
      ],
      "execution_count": null,
      "outputs": []
    },
    {
      "cell_type": "code",
      "metadata": {
        "id": "mMvFsz7dG1sA"
      },
      "source": [
        "from grid2op.Reward import L2RPNReward\n",
        "\n",
        "from grid2op.gym_compat import GymEnv, MultiDiscreteActSpace\n",
        "\n",
        "from stable_baselines3.common.policies import BasePolicy\n",
        "from stable_baselines3 import A2C, PPO\n",
        "from stable_baselines3.common.env_checker import check_env\n",
        "from pprint import pprint #Para ver los diccionarios con una estructura más elegante de la que ofrece print convencional"
      ],
      "execution_count": null,
      "outputs": []
    },
    {
      "cell_type": "code",
      "metadata": {
        "id": "LIaDF8gQG4K6"
      },
      "source": [
        "gym_env = GymEnv(env)\n",
        "# Aunque el espacio de observaciones y acciones ya es correcto, Stable Baselines 3 no tiene soporte para espacio de acciones mixtos basados en diccionarios\n",
        "# Por lo que no nos queda más remedio que discretizar todo el espacio de acciones (leer docstring de https://github.com/rte-france/Grid2Op/blob/master/grid2op/gym_compat/multidiscrete_gym_actspace.py)\n",
        "print(\"Espacio de acciones original: {}\".format(gym_env.action_space))\n",
        "gym_env.action_space = MultiDiscreteActSpace(gym_env.init_env.action_space)\n",
        "print(\"Espacio de acciones discretizado: {}\".format(gym_env.action_space))"
      ],
      "execution_count": null,
      "outputs": []
    },
    {
      "cell_type": "code",
      "metadata": {
        "id": "nlALO4XHHLiW"
      },
      "source": [
        "check_env(gym_env)"
      ],
      "execution_count": null,
      "outputs": []
    },
    {
      "cell_type": "code",
      "metadata": {
        "id": "NnZ5r_bZHPGy"
      },
      "source": [
        "env = gym_env"
      ],
      "execution_count": null,
      "outputs": []
    },
    {
      "cell_type": "code",
      "metadata": {
        "id": "9eUs7NWlYvpk"
      },
      "source": [
        "prueba = env.reset()\n",
        "data = list(prueba.items())\n",
        "an_array = np.array(data)\n",
        "\n",
        "an_array"
      ],
      "execution_count": null,
      "outputs": []
    },
    {
      "cell_type": "code",
      "metadata": {
        "id": "Bz6oRdRDHVWc"
      },
      "source": [
        "scores = dqn()"
      ],
      "execution_count": null,
      "outputs": []
    },
    {
      "cell_type": "code",
      "metadata": {
        "id": "vYUzQV7LLfOs"
      },
      "source": [
        ""
      ],
      "execution_count": null,
      "outputs": []
    }
  ]
}